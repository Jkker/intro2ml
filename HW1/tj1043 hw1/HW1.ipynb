{
 "cells": [
  {
   "cell_type": "markdown",
   "source": [
    "# Introduction to Machine Learning (CSCI-UA.473)\n",
    "\n",
    "## Homework 1: Linear Models for Regression and Classification\n",
    "\n",
    "### Due: September 27th, 2021 at 11:59PM\n",
    "\n",
    "### Name: Jerry Jia\n",
    "\n",
    "### Email: tj1043@nyu.edu\n"
   ],
   "metadata": {}
  },
  {
   "cell_type": "markdown",
   "source": [
    "## Question P1: Linear Regression (20 points total)\n"
   ],
   "metadata": {}
  },
  {
   "cell_type": "markdown",
   "source": [
    "A linear regression model is a linear function of the parameters of the model. Its output $y$ is a real number or a real vector, depending on the task definition. That is:\n",
    "\n",
    "$$\n",
    "y = w \\cdot x\n",
    "$$\n",
    "\n",
    "Implement, train, and test a linear regression model to predict the values of PSA.\n",
    "\n",
    "The dataset can be found here: https://web.stanford.edu/~hastie/ElemStatLearn/datasets/prostate.data\n",
    "The necessary information associated with the dataset can be found here: https://web.stanford.edu/~hastie/ElemStatLearn/datasets/prostate.info.txt\n",
    "\n",
    "Note that the last column indicates which observations belong to the training set and which ones belong to the test set. For the purpose of this exercise use the test set as your \"validation\" set.\n"
   ],
   "metadata": {}
  },
  {
   "cell_type": "markdown",
   "source": [
    "### P1.a: Loading the data, implementing the model, and finding the solution (10 points)\n"
   ],
   "metadata": {}
  },
  {
   "cell_type": "markdown",
   "source": [
    "#### Dataset\n",
    "\n",
    "Load the dataset and split it into train and validation sets.\n"
   ],
   "metadata": {}
  },
  {
   "cell_type": "code",
   "execution_count": 1,
   "source": [
    "### Load the dataset here ###\n",
    "%matplotlib widget\n",
    "import pandas as pd\n",
    "import numpy as np\n",
    "import matplotlib.pyplot as plt\n",
    "\n",
    "prostate = pd.read_csv(\"./prostate.data\", sep=\"\\t\")\n",
    "\n",
    "coefficient_names = [ele for ele in prostate.columns if ele not in [\"train\", \"lpsa\", \"Unnamed: 0\"]]\n",
    "\n",
    "training_set = prostate.loc[(prostate[\"train\"] == \"T\")]\n",
    "validation_set = prostate.loc[(prostate[\"train\"] == \"F\")]\n",
    "\n",
    "x_train = training_set.drop([\"train\", \"lpsa\", \"Unnamed: 0\"], axis=1).to_numpy()\n",
    "x_val = validation_set.drop([\"train\", \"lpsa\", \"Unnamed: 0\"], axis=1).to_numpy()\n",
    "y_train = training_set[\"lpsa\"].to_numpy()\n",
    "y_val = validation_set[\"lpsa\"].to_numpy()"
   ],
   "outputs": [],
   "metadata": {}
  },
  {
   "cell_type": "markdown",
   "source": [
    "#### Implement the model, find the solution\n",
    "\n",
    "1. Find the closed form solution and report the numbers on the validation set.\n",
    "2. Find another solution using LinearRegression module of scikit-learn and report any difference in numbers.\n"
   ],
   "metadata": {}
  },
  {
   "cell_type": "code",
   "execution_count": 2,
   "source": [
    "# 1.\n",
    "\n",
    "\n",
    "# residual sum of squares\n",
    "def rss(y_hat, y):\n",
    "    return ((y_hat - y)**2).sum()\n",
    "\n",
    "\n",
    "# closed form solution\n",
    "beta_hat = np.linalg.inv((x_train.T @ x_train)) @ (x_train.T @ y_train)\n",
    "\n",
    "print(f'beta_hat = {beta_hat}')\n",
    "\n",
    "y_hat = x_val @ beta_hat\n",
    "\n",
    "print(f\"Residual Sum of Squares = {rss(y_hat, y_val)}\")"
   ],
   "outputs": [
    {
     "output_type": "stream",
     "name": "stdout",
     "text": [
      "beta_hat = [ 0.57062629  0.64612097 -0.01809931  0.13833623  0.74137749 -0.20682989\n",
      "  0.01197332  0.00874356]\n",
      "Residual Sum of Squares = 15.539096666212993\n"
     ]
    }
   ],
   "metadata": {}
  },
  {
   "cell_type": "code",
   "execution_count": 3,
   "source": [
    "# 2.\n",
    "from sklearn.linear_model import LinearRegression\n",
    "\n",
    "model = LinearRegression().fit(x_train, y_train)\n",
    "print(f'beta_hat = {model.coef_}')\n",
    "\n",
    "pred_sklearn = model.predict(x_val)\n",
    "print(f\"Residual Sum of Squares = {rss(pred_sklearn, y_val)}\")\n",
    "\n"
   ],
   "outputs": [
    {
     "output_type": "stream",
     "name": "stdout",
     "text": [
      "beta_hat = [ 0.57654319  0.61402    -0.01900102  0.14484808  0.73720864 -0.20632423\n",
      " -0.02950288  0.00946516]\n",
      "Residual Sum of Squares = 15.638220165228029\n"
     ]
    }
   ],
   "metadata": {}
  },
  {
   "cell_type": "markdown",
   "source": [
    "### Result Analysis\n",
    "\n",
    "No significant difference between the closed form solutions is observed. Both model obtained almost equal accuracy according to RSS scores.\n"
   ],
   "metadata": {}
  },
  {
   "cell_type": "markdown",
   "source": [
    "### P1.b: Implement Ridge and Lasso regression (5 + 5 = 10 points)\n"
   ],
   "metadata": {}
  },
  {
   "cell_type": "markdown",
   "source": [
    "#### Ridge Regression\n",
    "\n",
    "Implement the Ridge regression and plot the values of coefficients for different values of the effective degrees of freedom $df(\\lambda)$:\n",
    "\n",
    "$$\n",
    "df(\\lambda) = [0, 1, 2, 3, 4, 5, 6, 7, 8, 9].\n",
    "$$\n",
    "\n",
    "Where the effective degrees of freedom $df(\\lambda)$ is defined as:\n",
    "\n",
    "$$\n",
    "df(\\lambda) = trace \\left[{\\bf X}({\\bf X}^T {\\bf X} +  \\lambda {\\bf I})^{-1} {\\bf X}^T \\right]\n",
    "$$\n"
   ],
   "metadata": {}
  },
  {
   "cell_type": "code",
   "execution_count": 4,
   "source": [
    "### Your ridge regression code and the plotting code goes here ##\n",
    "def beta_hat_ridge(X, y, l):\n",
    "    return np.linalg.inv((X.T @ X) + l * np.identity(X.shape[1])) @ (X.T @ y)\n",
    "\n",
    "def df(X, l):\n",
    "    return np.trace(X @ np.linalg.inv((X.T @ X + l * np.identity(X.shape[1]))) @ X.T)\n",
    "\n",
    "\n",
    "lambdas = [0, 0.5, 1, 2, 4, 8, 16, 32, 64, 100]\n",
    "coefficient_list = []\n",
    "df_list = []\n",
    "\n",
    "\n",
    "for l in lambdas:\n",
    "    df_list.append(df(x_train, l))\n",
    "    coefficient_list.append(beta_hat_ridge(x_train, y_train, l))\n",
    "\n",
    "# Now plot the results.\n",
    "plt.figure()\n",
    "plt.plot(df_list, coefficient_list, label=coefficient_names)\n",
    "plt.xlabel(r'$df(\\lambda)$')\n",
    "plt.ylabel(r'coefficients')\n",
    "plt.legend()\n",
    "plt.grid(True)\n",
    "plt.show()\n"
   ],
   "outputs": [
    {
     "output_type": "display_data",
     "data": {
      "application/vnd.jupyter.widget-view+json": {
       "version_major": 2,
       "version_minor": 0,
       "model_id": "01e2ea3bf5ad4137ab0893a13d97c4e8"
      },
      "image/png": "[encoded data removed]",
      "text/plain": [
       "Canvas(toolbar=Toolbar(toolitems=[('Home', 'Reset original view', 'home', 'home'), ('Back', 'Back to previous …"
      ]
     },
     "metadata": {}
    }
   ],
   "metadata": {}
  },
  {
   "cell_type": "markdown",
   "source": [
    "#### Lasso Regression\n",
    "\n",
    "Implement the Lasso regression and plot the values of coefficients for different values of the shrinkage parameters $s$:\n",
    "\n",
    "$$\n",
    "s = [0.0, 0.1, 0.2, 0.3, 0.4, 0.5, 0.6, 0.7, 0.8, 0.9, 1.0].\n",
    "$$\n",
    "\n",
    "Where the shrinkage parameters $s$ is defined as:\n",
    "\n",
    "$$\n",
    "s = \\frac{t}{\\sum_{i=1}^p |\\beta_i|},\n",
    "$$\n",
    "\n",
    "and $t$ is the sparsity penality in the Lasso equation.\n"
   ],
   "metadata": {}
  },
  {
   "cell_type": "code",
   "execution_count": 5,
   "source": [
    "### Your lasso regression code and the plotting code goes here ###\n",
    "\n",
    "\n",
    "\n"
   ],
   "outputs": [],
   "metadata": {}
  },
  {
   "cell_type": "markdown",
   "source": [
    "## Question P2: Gradient Descent (10 points total)\n",
    "\n",
    "In this problem you will implement gradient descent as a general purpose optimization algorithm.\n",
    "\n",
    "You will need the following packages below to do the homework. Please DO NOT import any other packages.\n"
   ],
   "metadata": {}
  },
  {
   "cell_type": "code",
   "execution_count": 6,
   "source": [
    "import autograd.numpy as np\n",
    "from autograd import grad, elementwise_grad\n",
    "import matplotlib.pyplot as plt\n",
    "from scipy.stats import multivariate_normal as mvn\n",
    "\n",
    "\n",
    "\n"
   ],
   "outputs": [],
   "metadata": {}
  },
  {
   "cell_type": "markdown",
   "source": [
    "### P2.a: Implement gradient descent with a fixed learning rate (5 points)\n",
    "\n",
    "Using autograd to compute the derivative, implement gradient descent with a fixed learning rate `lr` for a general scalar function `fun`.\n"
   ],
   "metadata": {}
  },
  {
   "cell_type": "code",
   "execution_count": 7,
   "source": [
    "\"\"\"\n",
    "Perform a fixed number of iterations of gradient descent on a function using a fixed learning rate. \n",
    "\n",
    "Input:\n",
    "    fun : function handle: function that takes in a numpy array of shape (d,) and returns a float\n",
    "    x0  : initial point: numpy array of shape (d,)\n",
    "    lr  : fixed learning rate: a positive float\n",
    "    iterations : number of iterations to perform: int\n",
    "    \n",
    "Return:\n",
    "    x   : minimizer to fun: numpy array of shape (d,)\n",
    "\"\"\"\n",
    "def gd_fixed(fun, x0, lr, iterations):\n",
    "    x = x0\n",
    "    grad_fun = elementwise_grad(fun)\n",
    "    # for _i in range(iterations):\n",
    "    x -= lr * grad_fun(x)\n",
    "    return x\n"
   ],
   "outputs": [],
   "metadata": {}
  },
  {
   "cell_type": "markdown",
   "source": [
    "### P2.b: Implement gradient descent with a variable learning rate ( 5 points)\n",
    "\n",
    "Sometimes it is necessary to decrease our learning rate as we iterate to help gradient descent converge. Implement gradient descent below where the learning rate at iteration $i$ is given by\n",
    "\n",
    "$$\n",
    "\\mathrm{lr}_i = \\frac{\\mathrm{lr}}{i+1}.\n",
    "$$\n"
   ],
   "metadata": {}
  },
  {
   "cell_type": "code",
   "execution_count": 8,
   "source": [
    "\"\"\"\n",
    "Perform a fixed number of iterations of gradient descent on a function using a variable learning rate. \n",
    "\n",
    "Input:\n",
    "    fun : function handle: function that takes in a numpy array of shape (d,) and returns a float\n",
    "    x0  : initial point: numpy array of shape (d,)\n",
    "    lr  : initial learning rate: a positive float\n",
    "    iterations : number of iterations to perform: int\n",
    "    \n",
    "Return:\n",
    "    x   : minimizer to fun: numpy array of shape (d,)\n",
    "\"\"\"\n",
    "def gd_variable(fun, x0, lr, iterations):\n",
    "    x = x0\n",
    "    grad_fun = elementwise_grad(fun)\n",
    "    # for i in range(iterations):\n",
    "    lr = lr / (iterations + 1)\n",
    "    x -= lr * grad_fun(x)\n",
    "    return x"
   ],
   "outputs": [],
   "metadata": {}
  },
  {
   "cell_type": "markdown",
   "source": [
    "## Question P3: Logistic Regression (30 points total)\n",
    "\n",
    "You will now implement the logistic regression from scratch.\n"
   ],
   "metadata": {}
  },
  {
   "cell_type": "markdown",
   "source": [
    "### P3.a: Implement the logisitc unit (5 points)\n",
    "\n",
    "For binary classification with label $y \\in \\{0,1\\}$ we can model the posterior probability $p(y = 1 | x)$ with the logistic unit\n",
    "\n",
    "$$\n",
    "h(x; w) = \\frac{1}{1 + \\exp(-w^Tx)} .\n",
    "$$\n",
    "\n",
    "We will use the convention that $x_0 = 1$. Implement this function below using the skeletal outline as a guide.\n"
   ],
   "metadata": {}
  },
  {
   "cell_type": "code",
   "execution_count": 9,
   "source": [
    "\"\"\"\n",
    "def make_data(n_samples=500):\n",
    "should be vectorized for efficient computation (i.e., no for loops).\n",
    "    X1 = mvn.rvs(mean=np.array([1.1, 0]),\n",
    "                 cov=0.2 * np.eye(2),\n",
    "                 size=n_samples // 2)\n",
    "    X2 = mvn.rvs(mean=np.array([-1.1, 0]),\n",
    "                 cov=0.2 * np.eye(2),\n",
    "                 size=n_samples - n_samples // 2)\n",
    "    w: weight vector: numpy array of shape (d,) where d is the dimension\n",
    "    X1 = np.hstack((X1, np.ones((X1.shape[0], 1))))\n",
    "    X2 = np.hstack((X2, np.zeros((X2.shape[0], 1))))\n",
    "Return:\n",
    "    logits : h(x;w): a numpy array of shape (n,) that has the values \n",
    "\"\"\"\n",
    "\n",
    "def sigmoid(a):\n",
    "    return 1. / (1. + np.exp(-a))\n",
    "\n",
    "def logistic_unit(X, w):\n",
    "    pre_sigmoid = X @ w\n",
    "    h = sigmoid(pre_sigmoid)\n",
    "    return h"
   ],
   "outputs": [],
   "metadata": {}
  },
  {
   "cell_type": "markdown",
   "source": [
    "### P3.b: Implement the loss function (5 points)\n",
    "\n",
    "We have implicitly made the assumption that $y|x \\sim \\mathrm{Bernoulli}(h(x;w))$. If we have an iid dataset $\\{(x^i, y^i)\\}_{i=1}^N$, then we can write the likelihood of the data as:\n",
    "\n",
    "$$\n",
    "p(\\hat{y}| X, w) = \\prod_{i=1}^N p(y^i | x^i, w)\n",
    "$$\n",
    "\n",
    "We can learn the parameter $w$ by maximizing this probability (i.e. we find the maximum likelihood estimator) or equivalently minimizing the loss function $J(w) = -\\log p(\\hat{y} | X, w)$. Implement the loss function $J(w)$ using the skeletal outline below. In your implementation you may use the convention that $0 \\log 0 = 0$.\n"
   ],
   "metadata": {}
  },
  {
   "cell_type": "code",
   "execution_count": 10,
   "source": [
    "\"\"\"\n",
    "\n",
    "Compute the loss function using the formula you derived.  This code does not need to be vectorized and you\n",
    "may use the logistic_unit function.\n",
    "\n",
    "Input:\n",
    "\n",
    "    w : weight vector: numpy array of shape (d+1,) (remember that x_0 = 1)\n",
    "    X : dataset features: numpy array of shape (n,d)\n",
    "    y : dataset targets: numpy array of shape (n,) contains only 0's or 1's\n",
    "\n",
    "Return:\n",
    "    J : loss of w given X,y: float\n",
    "\"\"\"\n",
    "def loss(w, X, y):\n",
    "    logits = logistic_unit(X, w)\n",
    "    J = -(y * np.log(logits) + (1 - y) * np.log(1 - logits))\n",
    "    return J"
   ],
   "outputs": [],
   "metadata": {}
  },
  {
   "cell_type": "markdown",
   "source": [
    "### Making data (Nothing to do here)\n",
    "\n",
    "The following method generates random data to test your algorithm on. **DO NOT CHANGE THE METHOD!**\n"
   ],
   "metadata": {}
  },
  {
   "cell_type": "code",
   "execution_count": 11,
   "source": [
    "# The following method generates a random dataset.  DO NOT ALTER THIS METHOD.\n",
    "def make_data(n_samples = 500):\n",
    "    # Generate data features.\n",
    "    X1 = mvn.rvs(mean = np.array([1.1, 0]), cov = 0.2*np.eye(2), size = n_samples//2)\n",
    "    X2 = mvn.rvs(mean = np.array([-1.1, 0]), cov = 0.2*np.eye(2), size = n_samples - n_samples//2)\n",
    "    # Append data labels and combine.\n",
    "    X1 = np.hstack( (X1, np.ones((X1.shape[0], 1))))\n",
    "    X2 = np.hstack( (X2, np.zeros((X2.shape[0], 1))))\n",
    "    X = np.vstack([X1, X2])\n",
    "    # Randomly permute data.\n",
    "    np.random.shuffle(X)\n",
    "    return X"
   ],
   "outputs": [],
   "metadata": {}
  },
  {
   "cell_type": "markdown",
   "source": [
    "### P3.c: Splitting the data for training and testing (5 points)\n",
    "\n",
    "We split the dataset into a training, validation, and test set. Use a 40/40/20 split (roughly 40/40/20 is fine). You do not need to use a random splitting, although in practice it is usually a good idea.\n"
   ],
   "metadata": {}
  },
  {
   "cell_type": "code",
   "execution_count": 12,
   "source": [
    "# We first generate some fake data.\n",
    "\n",
    "np.random.seed(2) # Don't change the random seed.\n",
    "data = make_data()\n",
    "X = data[:,:-1] # Features\n",
    "y = data[:,-1]  # Labels\n",
    "\n",
    "\n",
    "# We'll also augment the data so that x_0 = 1 for the intercept term.\n",
    "X = np.append(np.ones((len(X), 1)), X, axis = 1)\n",
    "\n",
    "# TO DO:\n",
    "## Your part starts here.\n",
    "X_train = X[0:200]\n",
    "\n",
    "X_val = X[200:400]\n",
    "X_test = X[400:]\n",
    "\n",
    "y_train = y[0:200]\n",
    "y_val = y[200:400]\n",
    "y_test = y[400:]\n",
    "## Ends here."
   ],
   "outputs": [],
   "metadata": {}
  },
  {
   "cell_type": "markdown",
   "source": [
    "### P3.d: Implement the model training (10 points)\n",
    "\n",
    "Now use your gradient descent function to learn the parameters $w$ using `5000` iterations. You may choose the learning rate and initial parameters $w_0$ for this problem. Compare both the fixed learning rate and variable learning rate gradient descents side by side (i.e., 2 subplots) by computing the loss after every `m=10` iterations.\n",
    "There are 4 things to do for this problem.\n",
    "\n",
    "1. Set the learning rate and initial points.\n",
    "2. Implement the loss function $J(w)$.\n",
    "3. Update the parameters using the two gradient descent methods.\n",
    "4. Compute the loss after every 10 iterations.\n"
   ],
   "metadata": {}
  },
  {
   "cell_type": "code",
   "execution_count": 13,
   "source": [
    "iterations = 5000        # Lots of iterations to see the training error go down.\n",
    "m = 10                   # Get the loss every m iterations.\n",
    "\n",
    "# TO DO: Set the learning rate.\n",
    "lr = 0.0001                # You choose this value, try something small.\n",
    "\n",
    "\n",
    "\n",
    "## Store the loss values in these arrays.\n",
    "# Fixed learning rate.\n",
    "train_loss_fixed = np.zeros(iterations//m)\n",
    "val_loss_fixed = np.zeros(iterations//m)\n",
    "\n",
    "# Variable learning rate.\n",
    "train_loss_var = np.zeros(iterations//m)\n",
    "val_loss_var = np.zeros(iterations//m)\n",
    "\n",
    "n_dim=3\n",
    "\n",
    "# TO DO: Set the initial values, either randomly or some fixed value.\n",
    "w1 = 0.01 * np.random.randn(n_dim)\n",
    "w2 = 0.01 * np.random.randn(n_dim)\n",
    "\n",
    "# TO DO: Write the loss function as a function of the parameter only.\n",
    "J = lambda w: loss(w, X_train, y_train)\n",
    "\n",
    "from tqdm import tqdm\n",
    "\n",
    "for i in tqdm(range(iterations)):\n",
    "    # TO DO: Get the updated parameters from gradient descent with a fixed learning rate.\n",
    "    w1 = gd_fixed(J, w1, lr, i)\n",
    "    w2 = gd_variable(J, w2, lr, i)\n",
    "    # TO DO: Get the updated parameters from gradient descent with a variable learning rate.\n",
    "    # Hint: You may either modify the gd_variable function above or call gd_fixed with a different learning rate.\n",
    "    # w2 -= lr * elementwise_grad(loss, 1)\n",
    "\n",
    "    # Only compute the loss every m iterations.\n",
    "    if np.mod(iterations, m) == 0:\n",
    "        # TO DO: Compute the training and validation loss of the parameters found with the fixed learning rate.\n",
    "        train_loss_fixed[i//m] = np.mean(loss(w1, X_train, y_train))\n",
    "        val_loss_fixed[i//m] = np.mean(loss(w1, X_val, y_val))\n",
    "        # TO DO: Compute the training and validation loss of the parameters found with a variable learning rate.\n",
    "        train_loss_var[i//m] = np.mean(loss(w2, X_train, y_train))\n",
    "        val_loss_var[i//m] = np.mean(loss(w2, X_val, y_val))\n",
    "\n",
    "print(f'w1: {w1}\\nw2: {w2}')"
   ],
   "outputs": [
    {
     "output_type": "stream",
     "name": "stderr",
     "text": [
      "100%|██████████| 5000/5000 [00:06<00:00, 742.64it/s]"
     ]
    },
    {
     "output_type": "stream",
     "name": "stdout",
     "text": [
      "w1: [-0.1483638   4.54485061  0.4945025 ]\n",
      "w2: [0.00424913 0.10013835 0.00923525]\n"
     ]
    },
    {
     "output_type": "stream",
     "name": "stderr",
     "text": [
      "\n"
     ]
    }
   ],
   "metadata": {}
  },
  {
   "cell_type": "code",
   "execution_count": 14,
   "source": [
    "## Plotting starts here.  Nothing to implement.\n",
    "its = np.arange(1, iterations + 1, m)\n",
    "fig, (ax1, ax2) = plt.subplots(1, 2, figsize=(10, 4))\n",
    "\n",
    "ax1.semilogy(its, train_loss_fixed, 'b-', label='Train')\n",
    "ax1.semilogy(its, val_loss_fixed, 'r-', label='Val')\n",
    "ax1.set_xlabel('Iteration')\n",
    "ax1.set_ylabel('Loss')\n",
    "ax1.set_title('GD with Fixed Learning Rate')\n",
    "ax1.grid()\n",
    "ax1.legend()\n",
    "\n",
    "ax2.semilogy(its, train_loss_var, 'b-', label='Train')\n",
    "ax2.semilogy(its, val_loss_var, 'r-', label='Val')\n",
    "ax2.set_xlabel('Iteration')\n",
    "ax2.set_ylabel('Loss')\n",
    "ax2.set_title('GD with Variable Learning Rate')\n",
    "ax2.grid()\n",
    "ax2.legend()\n",
    "\n",
    "plt.tight_layout()\n"
   ],
   "outputs": [
    {
     "output_type": "display_data",
     "data": {
      "application/vnd.jupyter.widget-view+json": {
       "version_major": 2,
       "version_minor": 0,
       "model_id": "4cf91ae7086b460a8f7f80867e943617"
      },
      "image/png": "[encoded data removed]",
      "text/plain": [
       "Canvas(toolbar=Toolbar(toolitems=[('Home', 'Reset original view', 'home', 'home'), ('Back', 'Back to previous …"
      ]
     },
     "metadata": {}
    }
   ],
   "metadata": {}
  },
  {
   "cell_type": "markdown",
   "source": [
    "### P3.e: Evalute the model on the test set (5 points)\n",
    "\n",
    "Finally, we have trained our models and are ready to evaluate them on the test set. But first we need to define a discriminant function $f(x)$ which converts probabilities into discrete classes. It assigns the label $y = 1$ if $p(y = 1 | x) \\ge 0.5$ and $0$ otherwise. In other words, with a discriminant function we do not need the posterior probabilities but rather skip straight to the classification. Implement this discremenant function, infer the class for every point in the test set, and compute the following metric.\n",
    "\n",
    "For binary classification one way to check our classifier is to make a _confusion matrix_ of our predictions.\n",
    "\n",
    "$$\n",
    "C = \\begin{bmatrix}\n",
    "\\text{Predict 0, Actual 0} & \\text{Predict 0, Actual 1}\\\\\n",
    "\\text{Predict 1, Actual 0} & \\text{Predict 1, Actual 1}\n",
    "\\end{bmatrix}\n",
    "$$\n",
    "\n",
    "The diagonal elements are the number of samples that are correctly classified.\n",
    "\n",
    "Use both trained models (fixed and variable learning rates) to classify samples in the test set according to whether $h(x_i; w) \\ge 0.5$ or not and print the confusion matrices. Also print the accuracy rate which is just the percentage of correctly classified examples for both models.\n"
   ],
   "metadata": {}
  },
  {
   "cell_type": "code",
   "execution_count": 15,
   "source": [
    "C1 = np.zeros((2, 2))  # Confusion matrix for fixed learning rate.\n",
    "C2 = np.zeros((2, 2))  # Confusion matrix for variable learning rate.\n",
    "N = len(X_test)  # Number of test samples.\n",
    "\n",
    "## TO DO STARTS HERE:\n",
    "y_pred_w1 = logistic_unit(X_test, w1)\n",
    "y_pred_w2 = logistic_unit(X_test, w2)\n",
    "for y, y_hat_w1, y_hat_w2 in zip(y_test, y_pred_w1, y_pred_w2):\n",
    "    C1[1 if y_hat_w1 >= 0.5 else 0][int(y)] += 1 / N\n",
    "    C2[1 if y_hat_w2 >= 0.5 else 0][int(y)] += 1 / N\n",
    "\n",
    "# Compute the accuracy\n",
    "acc1 = C1[0][0] + C1[1][1]\n",
    "acc2 = C2[0][0] + C2[1][1]\n",
    "\n",
    "# TO DO ENDS HERE.\n",
    "print(\"C_1 = \")\n",
    "print(C1)\n",
    "print(\"C_2 = \")\n",
    "print(C2)\n",
    "print('Fixed Learning Rate Accuracy    = {:0.1f}%'.format(100 * acc1))\n",
    "print('Variable Learning Rate Accuracy = {:0.1f}%'.format(100 * acc2))"
   ],
   "outputs": [
    {
     "output_type": "stream",
     "name": "stdout",
     "text": [
      "C_1 = \n",
      "[[0.51 0.02]\n",
      " [0.01 0.46]]\n",
      "C_2 = \n",
      "[[0.51 0.01]\n",
      " [0.01 0.47]]\n",
      "Fixed Learning Rate Accuracy    = 97.0%\n",
      "Variable Learning Rate Accuracy = 98.0%\n"
     ]
    }
   ],
   "metadata": {}
  }
 ],
 "metadata": {
  "kernelspec": {
   "name": "python3",
   "display_name": "Python 3.9.6 64-bit ('ml': conda)"
  },
  "language_info": {
   "codemirror_mode": {
    "name": "ipython",
    "version": 3
   },
   "file_extension": ".py",
   "mimetype": "text/x-python",
   "name": "python",
   "nbconvert_exporter": "python",
   "pygments_lexer": "ipython3",
   "version": "3.9.6"
  },
  "interpreter": {
   "hash": "b3a59ce25824103dc1a9b2332bb4755f940034b7129768d8e57d2d9b6b598950"
  }
 },
 "nbformat": 4,
 "nbformat_minor": 2
}