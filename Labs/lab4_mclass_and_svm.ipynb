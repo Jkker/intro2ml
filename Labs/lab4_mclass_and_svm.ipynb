{
 "cells": [
  {
   "cell_type": "markdown",
   "metadata": {},
   "source": [
    "# Introduction to Machine Learning (CSCI-UA.473)\n",
    "\n",
    "## Lab 4: Multiclass Classification, Weight Visualization, and Support Vector Machines\n",
    "### Date: October 14th, 2021\n",
    "### Name: (your name goes here)\n",
    "### Email: (your NYU email goes here)\n",
    "\n",
    "### Goal:  Demonstrate how to train a multiclass classifier and do some anecdotal analysis. In addition, we demonstrate some of the main concepts of Support Vector Machines (SVMs)"
   ]
  },
  {
   "cell_type": "markdown",
   "metadata": {},
   "source": [
    "## Multiclass Classifier "
   ]
  },
  {
   "cell_type": "markdown",
   "metadata": {},
   "source": [
    "Import some essential packages"
   ]
  },
  {
   "cell_type": "code",
   "execution_count": 6,
   "metadata": {},
   "outputs": [],
   "source": [
    "import numpy as np\n",
    "import pandas as pd\n",
    "from sklearn import datasets\n",
    "\n",
    "import matplotlib.pyplot as plt\n",
    "\n",
    "%matplotlib inline"
   ]
  },
  {
   "cell_type": "markdown",
   "metadata": {},
   "source": [
    "### Setup Seed\n",
    "\n",
    "For experiment reproducibility (in most cases), we need to make sure all sources of randomness are initialized with a seed. This includes the Python module `random` and `numpy`. Hence when developing/debugging the model it is a good practice to choose a seed and keep it fixed. After the development/debugging phase though, the experiments should be run using multiple seeds to make sure that the results don't fit to a single seed. \n",
    "\n",
    "**IMPORTANT**: Before using a random number generator from any module, make sure to set the seed using that module's seed function."
   ]
  },
  {
   "cell_type": "code",
   "execution_count": 7,
   "metadata": {},
   "outputs": [],
   "source": [
    "np.random.seed(12345)"
   ]
  },
  {
   "cell_type": "markdown",
   "metadata": {},
   "source": [
    "### Fetch Data\n",
    "\n",
    "Download the MNIST dataset file `mnist.npz` from `https://storage.googleapis.com/tensorflow/tf-keras-datasets/mnist.npz`."
   ]
  },
  {
   "cell_type": "code",
   "execution_count": 8,
   "metadata": {},
   "outputs": [],
   "source": [
    "class MNIST:\n",
    "    def __init__(self, path):\n",
    "        mnist = np.load(path)\n",
    "\n",
    "        self.train_labels = mnist['y_train']\n",
    "        self.test_labels = mnist['y_test']\n",
    "\n",
    "        self.train_data = mnist['x_train']\n",
    "        self.train_data = self.train_data.reshape(self.train_data.shape[0], -1)\n",
    "        self.test_data = mnist['x_test']\n",
    "        self.test_data = self.test_data.reshape(self.test_data.shape[0], -1)"
   ]
  },
  {
   "cell_type": "markdown",
   "metadata": {},
   "source": [
    "**NOTE**: Modify the `path` argument as desired."
   ]
  },
  {
   "cell_type": "code",
   "execution_count": 9,
   "metadata": {},
   "outputs": [],
   "source": [
    "path = '../data/mnist.npz'\n",
    "mnist = MNIST(path)"
   ]
  },
  {
   "cell_type": "markdown",
   "metadata": {},
   "source": [
    "Each digit is represented by a $784$-D vector (flattened $28 \\times 28$ image) and has a corresponding target digit label."
   ]
  },
  {
   "cell_type": "code",
   "execution_count": 10,
   "metadata": {},
   "outputs": [
    {
     "data": {
      "text/plain": [
       "((60000, 784), (60000,))"
      ]
     },
     "execution_count": 10,
     "metadata": {},
     "output_type": "execute_result"
    }
   ],
   "source": [
    "mnist.train_data.shape, mnist.train_labels.shape"
   ]
  },
  {
   "cell_type": "markdown",
   "metadata": {},
   "source": [
    "Let's take a look at the digits distribution in the dataset."
   ]
  },
  {
   "cell_type": "code",
   "execution_count": 11,
   "metadata": {},
   "outputs": [
    {
     "data": {
      "text/html": [
       "<div>\n",
       "<style scoped>\n",
       "    .dataframe tbody tr th:only-of-type {\n",
       "        vertical-align: middle;\n",
       "    }\n",
       "\n",
       "    .dataframe tbody tr th {\n",
       "        vertical-align: top;\n",
       "    }\n",
       "\n",
       "    .dataframe thead th {\n",
       "        text-align: right;\n",
       "    }\n",
       "</style>\n",
       "<table border=\"1\" class=\"dataframe\">\n",
       "  <thead>\n",
       "    <tr style=\"text-align: right;\">\n",
       "      <th></th>\n",
       "      <th>digit</th>\n",
       "      <th>count</th>\n",
       "    </tr>\n",
       "  </thead>\n",
       "  <tbody>\n",
       "    <tr>\n",
       "      <th>0</th>\n",
       "      <td>0</td>\n",
       "      <td>5923</td>\n",
       "    </tr>\n",
       "    <tr>\n",
       "      <th>1</th>\n",
       "      <td>1</td>\n",
       "      <td>6742</td>\n",
       "    </tr>\n",
       "    <tr>\n",
       "      <th>2</th>\n",
       "      <td>2</td>\n",
       "      <td>5958</td>\n",
       "    </tr>\n",
       "    <tr>\n",
       "      <th>3</th>\n",
       "      <td>3</td>\n",
       "      <td>6131</td>\n",
       "    </tr>\n",
       "    <tr>\n",
       "      <th>4</th>\n",
       "      <td>4</td>\n",
       "      <td>5842</td>\n",
       "    </tr>\n",
       "    <tr>\n",
       "      <th>5</th>\n",
       "      <td>5</td>\n",
       "      <td>5421</td>\n",
       "    </tr>\n",
       "    <tr>\n",
       "      <th>6</th>\n",
       "      <td>6</td>\n",
       "      <td>5918</td>\n",
       "    </tr>\n",
       "    <tr>\n",
       "      <th>7</th>\n",
       "      <td>7</td>\n",
       "      <td>6265</td>\n",
       "    </tr>\n",
       "    <tr>\n",
       "      <th>8</th>\n",
       "      <td>8</td>\n",
       "      <td>5851</td>\n",
       "    </tr>\n",
       "    <tr>\n",
       "      <th>9</th>\n",
       "      <td>9</td>\n",
       "      <td>5949</td>\n",
       "    </tr>\n",
       "  </tbody>\n",
       "</table>\n",
       "</div>"
      ],
      "text/plain": [
       "   digit  count\n",
       "0      0   5923\n",
       "1      1   6742\n",
       "2      2   5958\n",
       "3      3   6131\n",
       "4      4   5842\n",
       "5      5   5421\n",
       "6      6   5918\n",
       "7      7   6265\n",
       "8      8   5851\n",
       "9      9   5949"
      ]
     },
     "execution_count": 11,
     "metadata": {},
     "output_type": "execute_result"
    }
   ],
   "source": [
    "pd.DataFrame({\n",
    "    'count': np.bincount(mnist.train_labels),\n",
    "    'digit': np.unique(mnist.train_labels)}, \n",
    "    columns=['digit', 'count'])"
   ]
  },
  {
   "cell_type": "markdown",
   "metadata": {},
   "source": [
    "### Create Train/Validation/Test Data\n",
    "\n",
    "To make sure we create a model that generalizes well, we should train our model **ONLY** on \"train\" data, find the best performing model (validation) via the \"validation\" data and make sure no novel data (\"test\" data) leaks into the training or validation phase.\n",
    "\n",
    "For illustration, we will use $5000$ training samples, $100$ validation and test samples, all chosen (pseudo-)randomly. We first randomly pick a set of indices from both train and test data."
   ]
  },
  {
   "cell_type": "code",
   "execution_count": 12,
   "metadata": {},
   "outputs": [],
   "source": [
    "num_train, num_val, num_test = 10000, 1000, 1000\n",
    "sample_idx = np.random.choice(mnist.train_data.shape[0], num_train + num_val)\n",
    "test_idx = np.random.choice(mnist.test_data.shape[0], num_test)\n",
    "train_idx, val_idx = (sample_idx[:num_train], sample_idx[num_train:num_train + num_val])"
   ]
  },
  {
   "cell_type": "markdown",
   "metadata": {},
   "source": [
    "Use numpy slicing to get the data at the indices sampled above."
   ]
  },
  {
   "cell_type": "code",
   "execution_count": 13,
   "metadata": {},
   "outputs": [],
   "source": [
    "train_data, train_labels = mnist.train_data[train_idx], mnist.train_labels[train_idx].astype(int)\n",
    "val_data, val_labels = mnist.train_data[val_idx], mnist.train_labels[val_idx].astype(int)\n",
    "test_data, test_labels = mnist.test_data[test_idx], mnist.test_labels[test_idx].astype(int)"
   ]
  },
  {
   "cell_type": "markdown",
   "metadata": {},
   "source": [
    "Add the bias element directly into the original data by concatenating a column of ones."
   ]
  },
  {
   "cell_type": "code",
   "execution_count": 14,
   "metadata": {},
   "outputs": [
    {
     "data": {
      "text/plain": [
       "((10000, 785), (1000, 785), (1000, 785))"
      ]
     },
     "execution_count": 14,
     "metadata": {},
     "output_type": "execute_result"
    }
   ],
   "source": [
    "train_data_tilde = np.concatenate([train_data, np.ones((train_data.shape[0], 1))], axis=1)\n",
    "val_data_tilde = np.concatenate([val_data, np.ones((val_data.shape[0], 1))], axis=1)\n",
    "test_data_tilde = np.concatenate([test_data, np.ones((test_data.shape[0], 1))], axis=1)\n",
    "\n",
    "train_data_tilde.shape, val_data_tilde.shape, test_data_tilde.shape"
   ]
  },
  {
   "cell_type": "markdown",
   "metadata": {},
   "source": [
    "### Visualize Train Data"
   ]
  },
  {
   "cell_type": "code",
   "execution_count": 15,
   "metadata": {},
   "outputs": [
    {
     "data": {
      "image/png": "[encoded data removed]",
      "text/plain": [
       "<Figure size 432x432 with 16 Axes>"
      ]
     },
     "metadata": {
      "needs_background": "light"
     },
     "output_type": "display_data"
    }
   ],
   "source": [
    "fig, axes = plt.subplots(4, 4, figsize=(6, 6))\n",
    "fig.tight_layout()\n",
    "\n",
    "random_idx = np.random.choice(train_data.shape[0], size=16, replace=False)\n",
    "\n",
    "for i in range(4):\n",
    "    for j in range(4):\n",
    "        idx = j + i * 4\n",
    "        axes[i, j].set_title(train_labels[idx])\n",
    "        axes[i, j].imshow(train_data[idx].reshape(28, 28), cmap='gray')\n",
    "        axes[i, j].axis('off')\n",
    "\n",
    "plt.show()"
   ]
  },
  {
   "cell_type": "markdown",
   "metadata": {},
   "source": [
    "Let's also take a look at the label distribution for our newly created training data. Ideally, we would like them to be equal in number."
   ]
  },
  {
   "cell_type": "code",
   "execution_count": 16,
   "metadata": {},
   "outputs": [
    {
     "data": {
      "text/html": [
       "<div>\n",
       "<style scoped>\n",
       "    .dataframe tbody tr th:only-of-type {\n",
       "        vertical-align: middle;\n",
       "    }\n",
       "\n",
       "    .dataframe tbody tr th {\n",
       "        vertical-align: top;\n",
       "    }\n",
       "\n",
       "    .dataframe thead th {\n",
       "        text-align: right;\n",
       "    }\n",
       "</style>\n",
       "<table border=\"1\" class=\"dataframe\">\n",
       "  <thead>\n",
       "    <tr style=\"text-align: right;\">\n",
       "      <th></th>\n",
       "      <th>digit</th>\n",
       "      <th>count</th>\n",
       "    </tr>\n",
       "  </thead>\n",
       "  <tbody>\n",
       "    <tr>\n",
       "      <th>0</th>\n",
       "      <td>0</td>\n",
       "      <td>997</td>\n",
       "    </tr>\n",
       "    <tr>\n",
       "      <th>1</th>\n",
       "      <td>1</td>\n",
       "      <td>1119</td>\n",
       "    </tr>\n",
       "    <tr>\n",
       "      <th>2</th>\n",
       "      <td>2</td>\n",
       "      <td>1002</td>\n",
       "    </tr>\n",
       "    <tr>\n",
       "      <th>3</th>\n",
       "      <td>3</td>\n",
       "      <td>998</td>\n",
       "    </tr>\n",
       "    <tr>\n",
       "      <th>4</th>\n",
       "      <td>4</td>\n",
       "      <td>983</td>\n",
       "    </tr>\n",
       "    <tr>\n",
       "      <th>5</th>\n",
       "      <td>5</td>\n",
       "      <td>936</td>\n",
       "    </tr>\n",
       "    <tr>\n",
       "      <th>6</th>\n",
       "      <td>6</td>\n",
       "      <td>965</td>\n",
       "    </tr>\n",
       "    <tr>\n",
       "      <th>7</th>\n",
       "      <td>7</td>\n",
       "      <td>1074</td>\n",
       "    </tr>\n",
       "    <tr>\n",
       "      <th>8</th>\n",
       "      <td>8</td>\n",
       "      <td>948</td>\n",
       "    </tr>\n",
       "    <tr>\n",
       "      <th>9</th>\n",
       "      <td>9</td>\n",
       "      <td>978</td>\n",
       "    </tr>\n",
       "  </tbody>\n",
       "</table>\n",
       "</div>"
      ],
      "text/plain": [
       "   digit  count\n",
       "0      0    997\n",
       "1      1   1119\n",
       "2      2   1002\n",
       "3      3    998\n",
       "4      4    983\n",
       "5      5    936\n",
       "6      6    965\n",
       "7      7   1074\n",
       "8      8    948\n",
       "9      9    978"
      ]
     },
     "execution_count": 16,
     "metadata": {},
     "output_type": "execute_result"
    }
   ],
   "source": [
    "pd.DataFrame({\n",
    "    'count': np.bincount(train_labels),\n",
    "    'digit': np.unique(train_labels)}, \n",
    "    columns=['digit', 'count'])"
   ]
  },
  {
   "cell_type": "markdown",
   "metadata": {},
   "source": [
    "### Model Definition\n",
    "\n",
    "We define a simple linear model which outputs the probability of incoming digit belonging to one of the $10$ classes.\n",
    "\n",
    "$$ \n",
    "\\begin{align}\n",
    "p_i \n",
    "& = \\text{softmax}(w^T \\cdot x)_i \\text{$x \\in \\mathbb{R}^{D+1}$, $w \\in \\mathbb{R}^{(D+1) \\times K}$} \\\\\n",
    "& = \\frac{\\exp^{w^T_i \\cdot x}}{\\sum_j \\exp^{w^T_j \\cdot x}} \\text{$\\forall j \\in [1, K]$}\n",
    "\\end{align}\n",
    "$$\n",
    "\n",
    "$D = 784$ (the dimension of your input), $K = 10$ (total number of classes). "
   ]
  },
  {
   "cell_type": "code",
   "execution_count": 17,
   "metadata": {},
   "outputs": [],
   "source": [
    "def model(X, W):\n",
    "    logits = np.matmul(X, W.T) / W.shape[-1]\n",
    "    \n",
    "    logits_exp = np.exp(logits)\n",
    "    probs = logits_exp / np.sum(logits_exp, axis=1, keepdims=True)\n",
    "    \n",
    "    return probs\n",
    "\n",
    "\n",
    "def mean_nll(output, target):\n",
    "    prob = output[np.arange(output.shape[0]), target]\n",
    "    neg_likelihood = - np.log(prob + 1e-9)\n",
    "    return np.mean(neg_likelihood)\n",
    "\n",
    "\n",
    "def one_hot(K, labels):\n",
    "    B = labels.shape[0]\n",
    "    output = np.zeros((B, K))\n",
    "    output[np.arange(B), labels] = 1\n",
    "    return output\n",
    "\n",
    "\n",
    "def gradient(all_probs, X, y):\n",
    "    B, K = all_probs.shape\n",
    "    y_star = one_hot(K, y)\n",
    "    grad = np.matmul((all_probs - y_star).T, X)\n",
    "    return grad / B\n",
    "\n",
    "def reg_gradient(lmbda, W) :\n",
    "    return lmbda * W/W.shape[0]\n",
    "    \n",
    "\n",
    "def evaluate(W, X, y):\n",
    "    all_probs = model(X, W)\n",
    "    loss = mean_nll(all_probs, y)\n",
    "    \n",
    "    y_pred = np.argmax(all_probs, axis=1)\n",
    "    y_correct = np.sum(y_pred == y)\n",
    "    acc = y_correct / y.shape[0]\n",
    "\n",
    "    return loss, acc\n"
   ]
  },
  {
   "cell_type": "markdown",
   "metadata": {},
   "source": [
    "### Execute Training\n",
    "\n",
    "We first initialize all weights randomly from a standard normal distribution and then run training until we see no further improvement (for a maximum of `n_epochs`).\n",
    "\n",
    "\n",
    "#### Gradient Descent\n",
    "\n",
    "Often times, we cannot solve for the true parameters in closed form and resort to an iterative procedure known as *gradient descent*. Further, using only one data sample to update the parameters is termed as *stochastic gradient descent*. The stochasticity (randomness) comes from the fact that we only use one sample and not the full data set. To maximize memory utilization, we take a subset of samples called a *mini-batch*, termed as *mini-batch stochastic gradient descent*. This technique is demonstrated in the example below.\n",
    "\n",
    "The stochastic gradient descent algorithm involves a set of hyperparameters that typically require tuning based on the problem at hand. The learning rate is a multiplicative factor to the *stochastic gradient* which decides how far we jump in the gradient direction (modifies the magnitude of the gradient). As we start getting closer to the optimum value, we would like to slow down so as to not make large jumps in the parameter ($\\mathbf{W}$) space. This schedule of decreasing the learning rate is known as *annealing*. In the example below, we anneal from a learning rate of $0.1$ to $0.001$ over $30$ epochs."
   ]
  },
  {
   "cell_type": "markdown",
   "metadata": {},
   "source": [
    "Initialize the weight vector randomly from a standard normal distribution (Gaussian distribution with mean=0 and standard deviation=1)"
   ]
  },
  {
   "cell_type": "code",
   "execution_count": 18,
   "metadata": {},
   "outputs": [
    {
     "data": {
      "text/plain": [
       "(10, 785)"
      ]
     },
     "execution_count": 18,
     "metadata": {},
     "output_type": "execute_result"
    }
   ],
   "source": [
    "K = np.unique(mnist.train_labels).shape[0]\n",
    "D = mnist.train_data.shape[-1]\n",
    "\n",
    "w = np.random.normal(size=(K, D+1))\n",
    "w.shape"
   ]
  },
  {
   "cell_type": "code",
   "execution_count": 19,
   "metadata": {},
   "outputs": [
    {
     "name": "stdout",
     "output_type": "stream",
     "text": [
      "epoch    0 : lr 0.1000 acc 0.8140 | loss 2.43221\n",
      "epoch    1 : lr 0.1000 acc 0.8270 | loss 2.19105\n",
      "epoch    2 : lr 0.1000 acc 0.8460 | loss 1.91361\n",
      "epoch    3 : lr 0.1000 acc 0.8790 | loss 1.31533\n",
      "epoch    4 : lr 0.1000 acc 0.8310 | loss 1.94764\n",
      "epoch    5 : lr 0.1000 acc 0.9000 | loss 1.15495\n",
      "epoch    6 : lr 0.1000 acc 0.8460 | loss 1.66730\n",
      "epoch    7 : lr 0.1000 acc 0.8500 | loss 1.68435\n",
      "epoch    8 : lr 0.1000 acc 0.8260 | loss 2.06236\n",
      "epoch    9 : lr 0.1000 acc 0.8790 | loss 1.43675\n",
      "epoch   10 : lr 0.1000 acc 0.8600 | loss 1.65642\n",
      "epoch   11 : lr 0.1000 acc 0.8720 | loss 1.42897\n",
      "epoch   12 : lr 0.1000 acc 0.8480 | loss 1.70399\n",
      "epoch   13 : lr 0.1000 acc 0.8450 | loss 1.80872\n",
      "epoch   14 : lr 0.1000 acc 0.8780 | loss 1.31069\n",
      "epoch   15 : lr 0.1000 acc 0.8920 | loss 1.27742\n",
      "epoch   16 : lr 0.1000 acc 0.8710 | loss 1.41398\n",
      "epoch   17 : lr 0.1000 acc 0.8460 | loss 1.78167\n",
      "epoch   18 : lr 0.1000 acc 0.8760 | loss 1.39668\n",
      "epoch   19 : lr 0.1000 acc 0.8650 | loss 1.59545\n",
      "epoch   20 : lr 0.1000 acc 0.8870 | loss 1.26616\n",
      "epoch   21 : lr 0.1000 acc 0.8780 | loss 1.36276\n",
      "epoch   22 : lr 0.1000 acc 0.8150 | loss 2.17732\n",
      "epoch   23 : lr 0.1000 acc 0.8760 | loss 1.44175\n",
      "epoch   24 : lr 0.1000 acc 0.9050 | loss 1.21312\n",
      "epoch   25 : lr 0.1000 acc 0.8720 | loss 1.56168\n",
      "epoch   26 : lr 0.1000 acc 0.8990 | loss 1.24438\n",
      "epoch   27 : lr 0.1000 acc 0.8510 | loss 1.80846\n",
      "epoch   28 : lr 0.1000 acc 0.8870 | loss 1.20769\n",
      "epoch   29 : lr 0.1000 acc 0.8540 | loss 1.77667\n",
      "epoch   30 : lr 0.1000 acc 0.8930 | loss 1.29888\n",
      "epoch   31 : lr 0.1000 acc 0.8800 | loss 1.43694\n",
      "epoch   32 : lr 0.1000 acc 0.8810 | loss 1.36249\n",
      "epoch   33 : lr 0.1000 acc 0.8780 | loss 1.42307\n",
      "epoch   34 : lr 0.1000 acc 0.8790 | loss 1.42833\n",
      "epoch   35 : lr 0.1000 acc 0.8740 | loss 1.41786\n",
      "epoch   36 : lr 0.1000 acc 0.8780 | loss 1.40917\n",
      "epoch   37 : lr 0.1000 acc 0.8860 | loss 1.39561\n",
      "epoch   38 : lr 0.1000 acc 0.8800 | loss 1.41403\n",
      "epoch   39 : lr 0.1000 acc 0.8640 | loss 1.56559\n",
      "epoch   40 : lr 0.1000 acc 0.8710 | loss 1.46221\n",
      "epoch   41 : lr 0.1000 acc 0.8930 | loss 1.32209\n",
      "epoch   42 : lr 0.1000 acc 0.8790 | loss 1.57034\n",
      "epoch   43 : lr 0.1000 acc 0.8860 | loss 1.31216\n",
      "epoch   44 : lr 0.1000 acc 0.8770 | loss 1.48025\n",
      "epoch   45 : lr 0.1000 acc 0.8920 | loss 1.33078\n",
      "epoch   46 : lr 0.1000 acc 0.8880 | loss 1.40698\n",
      "epoch   47 : lr 0.1000 acc 0.8730 | loss 1.57555\n",
      "epoch   48 : lr 0.1000 acc 0.8840 | loss 1.36998\n",
      "Annealing the learning rate\n",
      "epoch   49 : lr 0.0500 acc 0.8920 | loss 1.26152\n",
      "epoch   50 : lr 0.0500 acc 0.8920 | loss 1.24798\n",
      "epoch   51 : lr 0.0500 acc 0.8940 | loss 1.20540\n",
      "epoch   52 : lr 0.0500 acc 0.8960 | loss 1.21879\n",
      "epoch   53 : lr 0.0500 acc 0.8910 | loss 1.21473\n",
      "epoch   54 : lr 0.0500 acc 0.8960 | loss 1.21109\n",
      "epoch   55 : lr 0.0500 acc 0.9010 | loss 1.20351\n",
      "epoch   56 : lr 0.0500 acc 0.8960 | loss 1.20664\n",
      "epoch   57 : lr 0.0500 acc 0.8940 | loss 1.24101\n",
      "epoch   58 : lr 0.0500 acc 0.8940 | loss 1.22632\n",
      "epoch   59 : lr 0.0500 acc 0.8950 | loss 1.22919\n",
      "epoch   60 : lr 0.0500 acc 0.8940 | loss 1.22106\n",
      "epoch   61 : lr 0.0500 acc 0.8880 | loss 1.22341\n",
      "epoch   62 : lr 0.0500 acc 0.8930 | loss 1.19616\n",
      "epoch   63 : lr 0.0500 acc 0.8910 | loss 1.23937\n",
      "epoch   64 : lr 0.0500 acc 0.8890 | loss 1.25966\n",
      "epoch   65 : lr 0.0500 acc 0.8900 | loss 1.25442\n",
      "epoch   66 : lr 0.0500 acc 0.8890 | loss 1.25803\n",
      "epoch   67 : lr 0.0500 acc 0.8830 | loss 1.27533\n",
      "epoch   68 : lr 0.0500 acc 0.8840 | loss 1.28299\n",
      "epoch   69 : lr 0.0500 acc 0.8880 | loss 1.30556\n",
      "epoch   70 : lr 0.0500 acc 0.8890 | loss 1.25900\n",
      "epoch   71 : lr 0.0500 acc 0.8870 | loss 1.28691\n",
      "epoch   72 : lr 0.0500 acc 0.8900 | loss 1.28544\n",
      "epoch   73 : lr 0.0500 acc 0.8910 | loss 1.27048\n",
      "epoch   74 : lr 0.0500 acc 0.8830 | loss 1.31036\n",
      "epoch   75 : lr 0.0500 acc 0.8810 | loss 1.27903\n",
      "epoch   76 : lr 0.0500 acc 0.8850 | loss 1.30608\n",
      "epoch   77 : lr 0.0500 acc 0.8870 | loss 1.30682\n",
      "epoch   78 : lr 0.0500 acc 0.8820 | loss 1.31586\n",
      "epoch   79 : lr 0.0500 acc 0.8860 | loss 1.25929\n",
      "epoch   80 : lr 0.0500 acc 0.8820 | loss 1.30961\n",
      "epoch   81 : lr 0.0500 acc 0.8900 | loss 1.29894\n",
      "epoch   82 : lr 0.0500 acc 0.8890 | loss 1.28867\n",
      "epoch   83 : lr 0.0500 acc 0.8880 | loss 1.30210\n",
      "epoch   84 : lr 0.0500 acc 0.8910 | loss 1.32848\n",
      "epoch   85 : lr 0.0500 acc 0.8870 | loss 1.32769\n",
      "epoch   86 : lr 0.0500 acc 0.8810 | loss 1.35295\n",
      "epoch   87 : lr 0.0500 acc 0.8880 | loss 1.30701\n",
      "epoch   88 : lr 0.0500 acc 0.8820 | loss 1.34394\n",
      "epoch   89 : lr 0.0500 acc 0.8840 | loss 1.33994\n",
      "epoch   90 : lr 0.0500 acc 0.8850 | loss 1.34565\n",
      "epoch   91 : lr 0.0500 acc 0.8880 | loss 1.35074\n",
      "epoch   92 : lr 0.0500 acc 0.8860 | loss 1.32075\n",
      "epoch   93 : lr 0.0500 acc 0.8860 | loss 1.33207\n",
      "epoch   94 : lr 0.0500 acc 0.8830 | loss 1.35056\n",
      "epoch   95 : lr 0.0500 acc 0.8870 | loss 1.33365\n",
      "epoch   96 : lr 0.0500 acc 0.8840 | loss 1.34966\n",
      "epoch   97 : lr 0.0500 acc 0.8850 | loss 1.32622\n",
      "epoch   98 : lr 0.0500 acc 0.8850 | loss 1.35172\n",
      "Annealing the learning rate\n",
      "epoch   99 : lr 0.0250 acc 0.8810 | loss 1.39383\n",
      "epoch  100 : lr 0.0250 acc 0.8810 | loss 1.37770\n",
      "epoch  101 : lr 0.0250 acc 0.8820 | loss 1.36907\n",
      "epoch  102 : lr 0.0250 acc 0.8850 | loss 1.36330\n",
      "epoch  103 : lr 0.0250 acc 0.8860 | loss 1.35850\n",
      "epoch  104 : lr 0.0250 acc 0.8860 | loss 1.35529\n",
      "epoch  105 : lr 0.0250 acc 0.8860 | loss 1.35289\n",
      "epoch  106 : lr 0.0250 acc 0.8860 | loss 1.35103\n",
      "epoch  107 : lr 0.0250 acc 0.8870 | loss 1.34961\n",
      "epoch  108 : lr 0.0250 acc 0.8870 | loss 1.34852\n",
      "epoch  109 : lr 0.0250 acc 0.8880 | loss 1.34771\n",
      "epoch  110 : lr 0.0250 acc 0.8870 | loss 1.34711\n",
      "epoch  111 : lr 0.0250 acc 0.8860 | loss 1.34670\n",
      "epoch  112 : lr 0.0250 acc 0.8860 | loss 1.34644\n",
      "epoch  113 : lr 0.0250 acc 0.8860 | loss 1.34627\n",
      "epoch  114 : lr 0.0250 acc 0.8860 | loss 1.34617\n",
      "epoch  115 : lr 0.0250 acc 0.8850 | loss 1.34613\n",
      "epoch  116 : lr 0.0250 acc 0.8850 | loss 1.34613\n",
      "epoch  117 : lr 0.0250 acc 0.8850 | loss 1.34617\n",
      "epoch  118 : lr 0.0250 acc 0.8850 | loss 1.34624\n",
      "epoch  119 : lr 0.0250 acc 0.8850 | loss 1.34633\n",
      "epoch  120 : lr 0.0250 acc 0.8840 | loss 1.34644\n",
      "epoch  121 : lr 0.0250 acc 0.8870 | loss 1.34658\n",
      "epoch  122 : lr 0.0250 acc 0.8860 | loss 1.34672\n",
      "epoch  123 : lr 0.0250 acc 0.8860 | loss 1.34688\n",
      "epoch  124 : lr 0.0250 acc 0.8860 | loss 1.34704\n",
      "epoch  125 : lr 0.0250 acc 0.8870 | loss 1.34720\n",
      "epoch  126 : lr 0.0250 acc 0.8870 | loss 1.34735\n",
      "epoch  127 : lr 0.0250 acc 0.8870 | loss 1.34751\n",
      "epoch  128 : lr 0.0250 acc 0.8870 | loss 1.34765\n",
      "epoch  129 : lr 0.0250 acc 0.8870 | loss 1.34778\n",
      "epoch  130 : lr 0.0250 acc 0.8860 | loss 1.34790\n",
      "epoch  131 : lr 0.0250 acc 0.8860 | loss 1.34800\n",
      "epoch  132 : lr 0.0250 acc 0.8860 | loss 1.34809\n",
      "epoch  133 : lr 0.0250 acc 0.8860 | loss 1.34816\n",
      "epoch  134 : lr 0.0250 acc 0.8860 | loss 1.34821\n",
      "epoch  135 : lr 0.0250 acc 0.8860 | loss 1.34824\n",
      "epoch  136 : lr 0.0250 acc 0.8860 | loss 1.34824\n",
      "epoch  137 : lr 0.0250 acc 0.8860 | loss 1.34821\n",
      "epoch  138 : lr 0.0250 acc 0.8860 | loss 1.34814\n",
      "epoch  139 : lr 0.0250 acc 0.8860 | loss 1.34804\n",
      "epoch  140 : lr 0.0250 acc 0.8860 | loss 1.34789\n",
      "epoch  141 : lr 0.0250 acc 0.8860 | loss 1.34770\n",
      "epoch  142 : lr 0.0250 acc 0.8860 | loss 1.34748\n",
      "epoch  143 : lr 0.0250 acc 0.8860 | loss 1.34724\n",
      "epoch  144 : lr 0.0250 acc 0.8860 | loss 1.34699\n",
      "epoch  145 : lr 0.0250 acc 0.8860 | loss 1.34672\n",
      "epoch  146 : lr 0.0250 acc 0.8860 | loss 1.34646\n",
      "epoch  147 : lr 0.0250 acc 0.8860 | loss 1.34620\n",
      "epoch  148 : lr 0.0250 acc 0.8860 | loss 1.34594\n",
      "Annealing the learning rate\n",
      "epoch  149 : lr 0.0125 acc 0.8860 | loss 1.34180\n",
      "epoch  150 : lr 0.0125 acc 0.8850 | loss 1.33978\n",
      "epoch  151 : lr 0.0125 acc 0.8850 | loss 1.33890\n",
      "epoch  152 : lr 0.0125 acc 0.8860 | loss 1.33833\n",
      "epoch  153 : lr 0.0125 acc 0.8860 | loss 1.33788\n",
      "epoch  154 : lr 0.0125 acc 0.8860 | loss 1.33751\n",
      "epoch  155 : lr 0.0125 acc 0.8860 | loss 1.33721\n",
      "epoch  156 : lr 0.0125 acc 0.8860 | loss 1.33696\n",
      "epoch  157 : lr 0.0125 acc 0.8860 | loss 1.33677\n",
      "epoch  158 : lr 0.0125 acc 0.8860 | loss 1.33662\n",
      "epoch  159 : lr 0.0125 acc 0.8860 | loss 1.33652\n",
      "epoch  160 : lr 0.0125 acc 0.8860 | loss 1.33645\n",
      "epoch  161 : lr 0.0125 acc 0.8860 | loss 1.33641\n",
      "epoch  162 : lr 0.0125 acc 0.8860 | loss 1.33640\n",
      "epoch  163 : lr 0.0125 acc 0.8860 | loss 1.33642\n",
      "epoch  164 : lr 0.0125 acc 0.8860 | loss 1.33647\n",
      "epoch  165 : lr 0.0125 acc 0.8860 | loss 1.33653\n",
      "epoch  166 : lr 0.0125 acc 0.8860 | loss 1.33661\n",
      "epoch  167 : lr 0.0125 acc 0.8870 | loss 1.33670\n",
      "epoch  168 : lr 0.0125 acc 0.8870 | loss 1.33681\n",
      "epoch  169 : lr 0.0125 acc 0.8870 | loss 1.33693\n",
      "epoch  170 : lr 0.0125 acc 0.8870 | loss 1.33707\n",
      "epoch  171 : lr 0.0125 acc 0.8870 | loss 1.33721\n",
      "epoch  172 : lr 0.0125 acc 0.8870 | loss 1.33736\n",
      "epoch  173 : lr 0.0125 acc 0.8870 | loss 1.33752\n",
      "epoch  174 : lr 0.0125 acc 0.8870 | loss 1.33768\n",
      "epoch  175 : lr 0.0125 acc 0.8870 | loss 1.33785\n",
      "epoch  176 : lr 0.0125 acc 0.8880 | loss 1.33803\n",
      "epoch  177 : lr 0.0125 acc 0.8880 | loss 1.33821\n",
      "epoch  178 : lr 0.0125 acc 0.8880 | loss 1.33839\n",
      "epoch  179 : lr 0.0125 acc 0.8880 | loss 1.33858\n",
      "epoch  180 : lr 0.0125 acc 0.8880 | loss 1.33877\n",
      "epoch  181 : lr 0.0125 acc 0.8880 | loss 1.33896\n",
      "epoch  182 : lr 0.0125 acc 0.8880 | loss 1.33916\n",
      "epoch  183 : lr 0.0125 acc 0.8880 | loss 1.33935\n",
      "epoch  184 : lr 0.0125 acc 0.8880 | loss 1.33955\n",
      "epoch  185 : lr 0.0125 acc 0.8880 | loss 1.33975\n",
      "epoch  186 : lr 0.0125 acc 0.8880 | loss 1.33994\n",
      "epoch  187 : lr 0.0125 acc 0.8880 | loss 1.34014\n",
      "epoch  188 : lr 0.0125 acc 0.8880 | loss 1.34034\n",
      "epoch  189 : lr 0.0125 acc 0.8880 | loss 1.34054\n",
      "epoch  190 : lr 0.0125 acc 0.8890 | loss 1.34073\n",
      "epoch  191 : lr 0.0125 acc 0.8890 | loss 1.34093\n",
      "epoch  192 : lr 0.0125 acc 0.8890 | loss 1.34112\n",
      "epoch  193 : lr 0.0125 acc 0.8890 | loss 1.34131\n",
      "epoch  194 : lr 0.0125 acc 0.8880 | loss 1.34151\n",
      "epoch  195 : lr 0.0125 acc 0.8880 | loss 1.34170\n",
      "epoch  196 : lr 0.0125 acc 0.8880 | loss 1.34188\n",
      "epoch  197 : lr 0.0125 acc 0.8880 | loss 1.34207\n",
      "epoch  198 : lr 0.0125 acc 0.8880 | loss 1.34225\n",
      "Annealing the learning rate\n",
      "epoch  199 : lr 0.0063 acc 0.8900 | loss 1.34410\n",
      "epoch  200 : lr 0.0063 acc 0.8890 | loss 1.34447\n",
      "epoch  201 : lr 0.0063 acc 0.8890 | loss 1.34486\n",
      "epoch  202 : lr 0.0063 acc 0.8890 | loss 1.34523\n",
      "epoch  203 : lr 0.0063 acc 0.8890 | loss 1.34558\n",
      "epoch  204 : lr 0.0063 acc 0.8890 | loss 1.34590\n",
      "epoch  205 : lr 0.0063 acc 0.8890 | loss 1.34621\n",
      "epoch  206 : lr 0.0063 acc 0.8890 | loss 1.34649\n",
      "epoch  207 : lr 0.0063 acc 0.8890 | loss 1.34676\n",
      "epoch  208 : lr 0.0063 acc 0.8890 | loss 1.34701\n",
      "epoch  209 : lr 0.0063 acc 0.8890 | loss 1.34726\n",
      "epoch  210 : lr 0.0063 acc 0.8900 | loss 1.34749\n",
      "epoch  211 : lr 0.0063 acc 0.8890 | loss 1.34772\n",
      "epoch  212 : lr 0.0063 acc 0.8890 | loss 1.34793\n",
      "epoch  213 : lr 0.0063 acc 0.8890 | loss 1.34814\n",
      "epoch  214 : lr 0.0063 acc 0.8890 | loss 1.34835\n",
      "epoch  215 : lr 0.0063 acc 0.8890 | loss 1.34855\n",
      "epoch  216 : lr 0.0063 acc 0.8890 | loss 1.34874\n",
      "epoch  217 : lr 0.0063 acc 0.8880 | loss 1.34893\n",
      "epoch  218 : lr 0.0063 acc 0.8880 | loss 1.34911\n",
      "epoch  219 : lr 0.0063 acc 0.8880 | loss 1.34930\n",
      "epoch  220 : lr 0.0063 acc 0.8880 | loss 1.34947\n",
      "epoch  221 : lr 0.0063 acc 0.8880 | loss 1.34965\n",
      "epoch  222 : lr 0.0063 acc 0.8880 | loss 1.34982\n",
      "epoch  223 : lr 0.0063 acc 0.8880 | loss 1.34998\n",
      "epoch  224 : lr 0.0063 acc 0.8880 | loss 1.35015\n",
      "epoch  225 : lr 0.0063 acc 0.8880 | loss 1.35031\n",
      "epoch  226 : lr 0.0063 acc 0.8880 | loss 1.35047\n",
      "epoch  227 : lr 0.0063 acc 0.8880 | loss 1.35062\n",
      "epoch  228 : lr 0.0063 acc 0.8880 | loss 1.35078\n",
      "epoch  229 : lr 0.0063 acc 0.8880 | loss 1.35093\n",
      "epoch  230 : lr 0.0063 acc 0.8880 | loss 1.35107\n",
      "epoch  231 : lr 0.0063 acc 0.8880 | loss 1.35122\n",
      "epoch  232 : lr 0.0063 acc 0.8880 | loss 1.35136\n",
      "epoch  233 : lr 0.0063 acc 0.8880 | loss 1.35150\n",
      "epoch  234 : lr 0.0063 acc 0.8880 | loss 1.35164\n",
      "epoch  235 : lr 0.0063 acc 0.8880 | loss 1.35178\n",
      "epoch  236 : lr 0.0063 acc 0.8880 | loss 1.35191\n",
      "epoch  237 : lr 0.0063 acc 0.8880 | loss 1.35205\n",
      "epoch  238 : lr 0.0063 acc 0.8880 | loss 1.35218\n",
      "epoch  239 : lr 0.0063 acc 0.8880 | loss 1.35230\n",
      "epoch  240 : lr 0.0063 acc 0.8880 | loss 1.35243\n",
      "epoch  241 : lr 0.0063 acc 0.8880 | loss 1.35256\n",
      "epoch  242 : lr 0.0063 acc 0.8880 | loss 1.35268\n",
      "epoch  243 : lr 0.0063 acc 0.8880 | loss 1.35280\n",
      "epoch  244 : lr 0.0063 acc 0.8880 | loss 1.35292\n",
      "epoch  245 : lr 0.0063 acc 0.8880 | loss 1.35304\n",
      "epoch  246 : lr 0.0063 acc 0.8880 | loss 1.35316\n",
      "epoch  247 : lr 0.0063 acc 0.8880 | loss 1.35327\n",
      "epoch  248 : lr 0.0063 acc 0.8880 | loss 1.35339\n",
      "Annealing the learning rate\n",
      "epoch  249 : lr 0.0031 acc 0.8880 | loss 1.35647\n",
      "epoch  250 : lr 0.0031 acc 0.8880 | loss 1.35667\n",
      "epoch  251 : lr 0.0031 acc 0.8880 | loss 1.35679\n",
      "epoch  252 : lr 0.0031 acc 0.8880 | loss 1.35689\n",
      "epoch  253 : lr 0.0031 acc 0.8880 | loss 1.35699\n",
      "epoch  254 : lr 0.0031 acc 0.8880 | loss 1.35709\n",
      "epoch  255 : lr 0.0031 acc 0.8880 | loss 1.35717\n",
      "epoch  256 : lr 0.0031 acc 0.8890 | loss 1.35726\n",
      "epoch  257 : lr 0.0031 acc 0.8890 | loss 1.35734\n",
      "epoch  258 : lr 0.0031 acc 0.8890 | loss 1.35741\n",
      "epoch  259 : lr 0.0031 acc 0.8890 | loss 1.35749\n",
      "epoch  260 : lr 0.0031 acc 0.8890 | loss 1.35756\n",
      "epoch  261 : lr 0.0031 acc 0.8890 | loss 1.35763\n",
      "epoch  262 : lr 0.0031 acc 0.8890 | loss 1.35769\n",
      "epoch  263 : lr 0.0031 acc 0.8890 | loss 1.35775\n",
      "epoch  264 : lr 0.0031 acc 0.8890 | loss 1.35782\n",
      "epoch  265 : lr 0.0031 acc 0.8890 | loss 1.35788\n",
      "epoch  266 : lr 0.0031 acc 0.8890 | loss 1.35794\n",
      "epoch  267 : lr 0.0031 acc 0.8890 | loss 1.35800\n",
      "epoch  268 : lr 0.0031 acc 0.8890 | loss 1.35805\n",
      "epoch  269 : lr 0.0031 acc 0.8890 | loss 1.35811\n",
      "epoch  270 : lr 0.0031 acc 0.8890 | loss 1.35816\n",
      "epoch  271 : lr 0.0031 acc 0.8890 | loss 1.35822\n",
      "epoch  272 : lr 0.0031 acc 0.8890 | loss 1.35827\n",
      "epoch  273 : lr 0.0031 acc 0.8890 | loss 1.35833\n",
      "epoch  274 : lr 0.0031 acc 0.8890 | loss 1.35838\n",
      "epoch  275 : lr 0.0031 acc 0.8890 | loss 1.35843\n",
      "epoch  276 : lr 0.0031 acc 0.8890 | loss 1.35848\n",
      "epoch  277 : lr 0.0031 acc 0.8890 | loss 1.35853\n",
      "epoch  278 : lr 0.0031 acc 0.8890 | loss 1.35858\n",
      "epoch  279 : lr 0.0031 acc 0.8890 | loss 1.35863\n",
      "epoch  280 : lr 0.0031 acc 0.8890 | loss 1.35868\n",
      "epoch  281 : lr 0.0031 acc 0.8890 | loss 1.35872\n",
      "epoch  282 : lr 0.0031 acc 0.8890 | loss 1.35877\n",
      "epoch  283 : lr 0.0031 acc 0.8890 | loss 1.35882\n",
      "epoch  284 : lr 0.0031 acc 0.8890 | loss 1.35886\n",
      "epoch  285 : lr 0.0031 acc 0.8890 | loss 1.35891\n",
      "epoch  286 : lr 0.0031 acc 0.8890 | loss 1.35895\n",
      "epoch  287 : lr 0.0031 acc 0.8890 | loss 1.35900\n",
      "epoch  288 : lr 0.0031 acc 0.8890 | loss 1.35904\n",
      "epoch  289 : lr 0.0031 acc 0.8890 | loss 1.35909\n",
      "epoch  290 : lr 0.0031 acc 0.8890 | loss 1.35913\n",
      "epoch  291 : lr 0.0031 acc 0.8890 | loss 1.35917\n",
      "epoch  292 : lr 0.0031 acc 0.8890 | loss 1.35921\n",
      "epoch  293 : lr 0.0031 acc 0.8890 | loss 1.35926\n",
      "epoch  294 : lr 0.0031 acc 0.8890 | loss 1.35930\n",
      "epoch  295 : lr 0.0031 acc 0.8890 | loss 1.35934\n",
      "epoch  296 : lr 0.0031 acc 0.8890 | loss 1.35938\n",
      "epoch  297 : lr 0.0031 acc 0.8890 | loss 1.35942\n",
      "epoch  298 : lr 0.0031 acc 0.8890 | loss 1.35946\n",
      "Annealing the learning rate\n",
      "epoch  299 : lr 0.0016 acc 0.8890 | loss 1.36044\n",
      "epoch  300 : lr 0.0016 acc 0.8890 | loss 1.36066\n",
      "epoch  301 : lr 0.0016 acc 0.8890 | loss 1.36074\n",
      "epoch  302 : lr 0.0016 acc 0.8890 | loss 1.36079\n",
      "epoch  303 : lr 0.0016 acc 0.8890 | loss 1.36082\n",
      "epoch  304 : lr 0.0016 acc 0.8890 | loss 1.36086\n",
      "epoch  305 : lr 0.0016 acc 0.8890 | loss 1.36089\n",
      "epoch  306 : lr 0.0016 acc 0.8890 | loss 1.36092\n",
      "epoch  307 : lr 0.0016 acc 0.8890 | loss 1.36095\n",
      "epoch  308 : lr 0.0016 acc 0.8890 | loss 1.36098\n",
      "epoch  309 : lr 0.0016 acc 0.8890 | loss 1.36101\n",
      "epoch  310 : lr 0.0016 acc 0.8890 | loss 1.36103\n",
      "epoch  311 : lr 0.0016 acc 0.8890 | loss 1.36106\n",
      "epoch  312 : lr 0.0016 acc 0.8890 | loss 1.36108\n",
      "epoch  313 : lr 0.0016 acc 0.8890 | loss 1.36111\n",
      "epoch  314 : lr 0.0016 acc 0.8890 | loss 1.36113\n",
      "epoch  315 : lr 0.0016 acc 0.8890 | loss 1.36116\n",
      "epoch  316 : lr 0.0016 acc 0.8890 | loss 1.36118\n",
      "epoch  317 : lr 0.0016 acc 0.8890 | loss 1.36120\n",
      "epoch  318 : lr 0.0016 acc 0.8890 | loss 1.36122\n",
      "epoch  319 : lr 0.0016 acc 0.8890 | loss 1.36125\n",
      "epoch  320 : lr 0.0016 acc 0.8890 | loss 1.36127\n",
      "epoch  321 : lr 0.0016 acc 0.8890 | loss 1.36129\n",
      "epoch  322 : lr 0.0016 acc 0.8890 | loss 1.36131\n",
      "epoch  323 : lr 0.0016 acc 0.8890 | loss 1.36133\n",
      "epoch  324 : lr 0.0016 acc 0.8890 | loss 1.36135\n",
      "epoch  325 : lr 0.0016 acc 0.8890 | loss 1.36137\n",
      "epoch  326 : lr 0.0016 acc 0.8890 | loss 1.36139\n",
      "epoch  327 : lr 0.0016 acc 0.8890 | loss 1.36141\n",
      "epoch  328 : lr 0.0016 acc 0.8890 | loss 1.36143\n",
      "epoch  329 : lr 0.0016 acc 0.8890 | loss 1.36145\n",
      "epoch  330 : lr 0.0016 acc 0.8890 | loss 1.36147\n",
      "epoch  331 : lr 0.0016 acc 0.8890 | loss 1.36148\n",
      "epoch  332 : lr 0.0016 acc 0.8890 | loss 1.36150\n",
      "epoch  333 : lr 0.0016 acc 0.8890 | loss 1.36152\n",
      "epoch  334 : lr 0.0016 acc 0.8890 | loss 1.36154\n",
      "epoch  335 : lr 0.0016 acc 0.8890 | loss 1.36156\n",
      "epoch  336 : lr 0.0016 acc 0.8890 | loss 1.36157\n",
      "epoch  337 : lr 0.0016 acc 0.8890 | loss 1.36159\n",
      "epoch  338 : lr 0.0016 acc 0.8890 | loss 1.36161\n",
      "epoch  339 : lr 0.0016 acc 0.8890 | loss 1.36163\n",
      "epoch  340 : lr 0.0016 acc 0.8890 | loss 1.36165\n",
      "epoch  341 : lr 0.0016 acc 0.8890 | loss 1.36166\n",
      "epoch  342 : lr 0.0016 acc 0.8890 | loss 1.36168\n",
      "epoch  343 : lr 0.0016 acc 0.8890 | loss 1.36170\n",
      "epoch  344 : lr 0.0016 acc 0.8890 | loss 1.36171\n",
      "epoch  345 : lr 0.0016 acc 0.8890 | loss 1.36173\n",
      "epoch  346 : lr 0.0016 acc 0.8890 | loss 1.36175\n",
      "epoch  347 : lr 0.0016 acc 0.8890 | loss 1.36176\n",
      "epoch  348 : lr 0.0016 acc 0.8890 | loss 1.36178\n",
      "Annealing the learning rate\n",
      "epoch  349 : lr 0.0010 acc 0.8890 | loss 1.36203\n",
      "epoch  350 : lr 0.0010 acc 0.8890 | loss 1.36213\n",
      "epoch  351 : lr 0.0010 acc 0.8890 | loss 1.36218\n",
      "epoch  352 : lr 0.0010 acc 0.8890 | loss 1.36220\n",
      "epoch  353 : lr 0.0010 acc 0.8890 | loss 1.36222\n",
      "epoch  354 : lr 0.0010 acc 0.8890 | loss 1.36224\n",
      "epoch  355 : lr 0.0010 acc 0.8890 | loss 1.36225\n",
      "epoch  356 : lr 0.0010 acc 0.8890 | loss 1.36227\n",
      "epoch  357 : lr 0.0010 acc 0.8890 | loss 1.36228\n",
      "epoch  358 : lr 0.0010 acc 0.8890 | loss 1.36229\n",
      "epoch  359 : lr 0.0010 acc 0.8890 | loss 1.36231\n",
      "epoch  360 : lr 0.0010 acc 0.8890 | loss 1.36232\n",
      "epoch  361 : lr 0.0010 acc 0.8890 | loss 1.36233\n",
      "epoch  362 : lr 0.0010 acc 0.8890 | loss 1.36234\n",
      "epoch  363 : lr 0.0010 acc 0.8890 | loss 1.36235\n",
      "epoch  364 : lr 0.0010 acc 0.8890 | loss 1.36237\n",
      "epoch  365 : lr 0.0010 acc 0.8890 | loss 1.36238\n",
      "epoch  366 : lr 0.0010 acc 0.8890 | loss 1.36239\n",
      "epoch  367 : lr 0.0010 acc 0.8890 | loss 1.36240\n",
      "epoch  368 : lr 0.0010 acc 0.8890 | loss 1.36241\n",
      "epoch  369 : lr 0.0010 acc 0.8890 | loss 1.36242\n",
      "epoch  370 : lr 0.0010 acc 0.8890 | loss 1.36243\n",
      "epoch  371 : lr 0.0010 acc 0.8890 | loss 1.36245\n",
      "epoch  372 : lr 0.0010 acc 0.8890 | loss 1.36246\n",
      "epoch  373 : lr 0.0010 acc 0.8890 | loss 1.36247\n",
      "epoch  374 : lr 0.0010 acc 0.8890 | loss 1.36248\n",
      "epoch  375 : lr 0.0010 acc 0.8890 | loss 1.36249\n",
      "epoch  376 : lr 0.0010 acc 0.8890 | loss 1.36250\n",
      "epoch  377 : lr 0.0010 acc 0.8890 | loss 1.36251\n",
      "epoch  378 : lr 0.0010 acc 0.8890 | loss 1.36252\n",
      "epoch  379 : lr 0.0010 acc 0.8890 | loss 1.36253\n",
      "epoch  380 : lr 0.0010 acc 0.8890 | loss 1.36254\n",
      "epoch  381 : lr 0.0010 acc 0.8890 | loss 1.36255\n",
      "epoch  382 : lr 0.0010 acc 0.8890 | loss 1.36256\n",
      "epoch  383 : lr 0.0010 acc 0.8890 | loss 1.36257\n",
      "epoch  384 : lr 0.0010 acc 0.8890 | loss 1.36258\n",
      "epoch  385 : lr 0.0010 acc 0.8890 | loss 1.36259\n",
      "epoch  386 : lr 0.0010 acc 0.8890 | loss 1.36260\n",
      "epoch  387 : lr 0.0010 acc 0.8890 | loss 1.36261\n",
      "epoch  388 : lr 0.0010 acc 0.8890 | loss 1.36262\n",
      "epoch  389 : lr 0.0010 acc 0.8890 | loss 1.36263\n",
      "epoch  390 : lr 0.0010 acc 0.8890 | loss 1.36264\n",
      "epoch  391 : lr 0.0010 acc 0.8890 | loss 1.36265\n",
      "epoch  392 : lr 0.0010 acc 0.8890 | loss 1.36266\n",
      "epoch  393 : lr 0.0010 acc 0.8890 | loss 1.36267\n",
      "epoch  394 : lr 0.0010 acc 0.8890 | loss 1.36267\n",
      "epoch  395 : lr 0.0010 acc 0.8890 | loss 1.36268\n",
      "epoch  396 : lr 0.0010 acc 0.8890 | loss 1.36269\n",
      "epoch  397 : lr 0.0010 acc 0.8890 | loss 1.36270\n",
      "epoch  398 : lr 0.0010 acc 0.8890 | loss 1.36271\n",
      "Annealing the learning rate\n",
      "epoch  399 : lr 0.0010 acc 0.8890 | loss 1.36272\n",
      "epoch  400 : lr 0.0010 acc 0.8890 | loss 1.36273\n",
      "epoch  401 : lr 0.0010 acc 0.8890 | loss 1.36274\n",
      "epoch  402 : lr 0.0010 acc 0.8890 | loss 1.36275\n",
      "epoch  403 : lr 0.0010 acc 0.8890 | loss 1.36276\n",
      "epoch  404 : lr 0.0010 acc 0.8890 | loss 1.36277\n",
      "epoch  405 : lr 0.0010 acc 0.8890 | loss 1.36278\n",
      "epoch  406 : lr 0.0010 acc 0.8890 | loss 1.36278\n",
      "epoch  407 : lr 0.0010 acc 0.8890 | loss 1.36279\n",
      "epoch  408 : lr 0.0010 acc 0.8890 | loss 1.36280\n",
      "epoch  409 : lr 0.0010 acc 0.8890 | loss 1.36281\n",
      "epoch  410 : lr 0.0010 acc 0.8890 | loss 1.36282\n",
      "epoch  411 : lr 0.0010 acc 0.8890 | loss 1.36283\n",
      "epoch  412 : lr 0.0010 acc 0.8890 | loss 1.36284\n",
      "epoch  413 : lr 0.0010 acc 0.8890 | loss 1.36285\n",
      "epoch  414 : lr 0.0010 acc 0.8890 | loss 1.36286\n",
      "epoch  415 : lr 0.0010 acc 0.8890 | loss 1.36286\n",
      "epoch  416 : lr 0.0010 acc 0.8890 | loss 1.36287\n",
      "epoch  417 : lr 0.0010 acc 0.8890 | loss 1.36288\n",
      "epoch  418 : lr 0.0010 acc 0.8890 | loss 1.36289\n",
      "epoch  419 : lr 0.0010 acc 0.8890 | loss 1.36290\n",
      "epoch  420 : lr 0.0010 acc 0.8890 | loss 1.36291\n",
      "epoch  421 : lr 0.0010 acc 0.8890 | loss 1.36292\n",
      "epoch  422 : lr 0.0010 acc 0.8890 | loss 1.36292\n",
      "epoch  423 : lr 0.0010 acc 0.8890 | loss 1.36293\n",
      "epoch  424 : lr 0.0010 acc 0.8890 | loss 1.36294\n",
      "epoch  425 : lr 0.0010 acc 0.8890 | loss 1.36295\n",
      "epoch  426 : lr 0.0010 acc 0.8890 | loss 1.36296\n",
      "epoch  427 : lr 0.0010 acc 0.8890 | loss 1.36297\n",
      "epoch  428 : lr 0.0010 acc 0.8890 | loss 1.36297\n",
      "epoch  429 : lr 0.0010 acc 0.8890 | loss 1.36298\n",
      "epoch  430 : lr 0.0010 acc 0.8890 | loss 1.36299\n",
      "epoch  431 : lr 0.0010 acc 0.8890 | loss 1.36300\n",
      "epoch  432 : lr 0.0010 acc 0.8890 | loss 1.36301\n",
      "epoch  433 : lr 0.0010 acc 0.8890 | loss 1.36302\n",
      "epoch  434 : lr 0.0010 acc 0.8890 | loss 1.36302\n",
      "epoch  435 : lr 0.0010 acc 0.8890 | loss 1.36303\n",
      "epoch  436 : lr 0.0010 acc 0.8890 | loss 1.36304\n",
      "epoch  437 : lr 0.0010 acc 0.8890 | loss 1.36305\n",
      "epoch  438 : lr 0.0010 acc 0.8890 | loss 1.36306\n",
      "epoch  439 : lr 0.0010 acc 0.8890 | loss 1.36307\n",
      "epoch  440 : lr 0.0010 acc 0.8890 | loss 1.36307\n",
      "epoch  441 : lr 0.0010 acc 0.8890 | loss 1.36308\n",
      "epoch  442 : lr 0.0010 acc 0.8890 | loss 1.36309\n",
      "epoch  443 : lr 0.0010 acc 0.8890 | loss 1.36310\n",
      "epoch  444 : lr 0.0010 acc 0.8890 | loss 1.36311\n",
      "epoch  445 : lr 0.0010 acc 0.8890 | loss 1.36311\n",
      "epoch  446 : lr 0.0010 acc 0.8890 | loss 1.36312\n",
      "epoch  447 : lr 0.0010 acc 0.8890 | loss 1.36313\n",
      "epoch  448 : lr 0.0010 acc 0.8890 | loss 1.36314\n",
      "Annealing the learning rate\n",
      "epoch  449 : lr 0.0010 acc 0.8890 | loss 1.36315\n",
      "epoch  450 : lr 0.0010 acc 0.8890 | loss 1.36315\n",
      "epoch  451 : lr 0.0010 acc 0.8890 | loss 1.36316\n",
      "epoch  452 : lr 0.0010 acc 0.8890 | loss 1.36317\n",
      "epoch  453 : lr 0.0010 acc 0.8890 | loss 1.36318\n",
      "epoch  454 : lr 0.0010 acc 0.8890 | loss 1.36319\n",
      "epoch  455 : lr 0.0010 acc 0.8890 | loss 1.36319\n",
      "epoch  456 : lr 0.0010 acc 0.8890 | loss 1.36320\n",
      "epoch  457 : lr 0.0010 acc 0.8890 | loss 1.36321\n",
      "epoch  458 : lr 0.0010 acc 0.8890 | loss 1.36322\n",
      "epoch  459 : lr 0.0010 acc 0.8890 | loss 1.36322\n",
      "epoch  460 : lr 0.0010 acc 0.8890 | loss 1.36323\n",
      "epoch  461 : lr 0.0010 acc 0.8890 | loss 1.36324\n",
      "epoch  462 : lr 0.0010 acc 0.8890 | loss 1.36325\n",
      "epoch  463 : lr 0.0010 acc 0.8890 | loss 1.36325\n",
      "epoch  464 : lr 0.0010 acc 0.8890 | loss 1.36326\n",
      "epoch  465 : lr 0.0010 acc 0.8890 | loss 1.36327\n",
      "epoch  466 : lr 0.0010 acc 0.8890 | loss 1.36328\n",
      "epoch  467 : lr 0.0010 acc 0.8890 | loss 1.36329\n",
      "epoch  468 : lr 0.0010 acc 0.8890 | loss 1.36329\n",
      "epoch  469 : lr 0.0010 acc 0.8890 | loss 1.36330\n",
      "epoch  470 : lr 0.0010 acc 0.8890 | loss 1.36331\n",
      "epoch  471 : lr 0.0010 acc 0.8890 | loss 1.36332\n",
      "epoch  472 : lr 0.0010 acc 0.8890 | loss 1.36332\n",
      "epoch  473 : lr 0.0010 acc 0.8890 | loss 1.36333\n",
      "epoch  474 : lr 0.0010 acc 0.8890 | loss 1.36334\n",
      "epoch  475 : lr 0.0010 acc 0.8890 | loss 1.36335\n",
      "epoch  476 : lr 0.0010 acc 0.8890 | loss 1.36335\n",
      "epoch  477 : lr 0.0010 acc 0.8890 | loss 1.36336\n",
      "epoch  478 : lr 0.0010 acc 0.8890 | loss 1.36337\n",
      "epoch  479 : lr 0.0010 acc 0.8890 | loss 1.36337\n",
      "epoch  480 : lr 0.0010 acc 0.8890 | loss 1.36338\n",
      "epoch  481 : lr 0.0010 acc 0.8890 | loss 1.36339\n",
      "epoch  482 : lr 0.0010 acc 0.8890 | loss 1.36340\n",
      "epoch  483 : lr 0.0010 acc 0.8890 | loss 1.36340\n",
      "epoch  484 : lr 0.0010 acc 0.8890 | loss 1.36341\n",
      "epoch  485 : lr 0.0010 acc 0.8890 | loss 1.36342\n",
      "epoch  486 : lr 0.0010 acc 0.8890 | loss 1.36343\n",
      "epoch  487 : lr 0.0010 acc 0.8890 | loss 1.36343\n",
      "epoch  488 : lr 0.0010 acc 0.8890 | loss 1.36344\n",
      "epoch  489 : lr 0.0010 acc 0.8890 | loss 1.36345\n",
      "epoch  490 : lr 0.0010 acc 0.8890 | loss 1.36345\n",
      "epoch  491 : lr 0.0010 acc 0.8890 | loss 1.36346\n",
      "epoch  492 : lr 0.0010 acc 0.8890 | loss 1.36347\n",
      "epoch  493 : lr 0.0010 acc 0.8890 | loss 1.36348\n",
      "epoch  494 : lr 0.0010 acc 0.8890 | loss 1.36348\n",
      "epoch  495 : lr 0.0010 acc 0.8890 | loss 1.36349\n",
      "epoch  496 : lr 0.0010 acc 0.8890 | loss 1.36350\n",
      "epoch  497 : lr 0.0010 acc 0.8890 | loss 1.36350\n",
      "epoch  498 : lr 0.0010 acc 0.8890 | loss 1.36351\n",
      "Annealing the learning rate\n",
      "epoch  499 : lr 0.0010 acc 0.8890 | loss 1.36352\n",
      "test acc 0.8660 | loss 1.72464\n"
     ]
    }
   ],
   "source": [
    "n_epochs = 500\n",
    "batch_size = 50\n",
    "lr0 = 0.1\n",
    "lrf = 0.001\n",
    "anneal_over = 50\n",
    "improvement = 0.999\n",
    "lmbda = 0\n",
    "\n",
    "best_w, old_loss = None, np.Inf\n",
    "\n",
    "lr = lr0\n",
    "for e in range(n_epochs):\n",
    "    if (e + 1)% anneal_over == 0:\n",
    "        print('Annealing the learning rate')\n",
    "        lr = max(lrf, lr/2)\n",
    "    \n",
    "\n",
    "    for b in range(num_train // batch_size):\n",
    "        minibatch_X = train_data_tilde[b * batch_size:(b + 1) * batch_size]\n",
    "        minibatch_y = train_labels[b * batch_size:(b + 1) * batch_size]\n",
    "\n",
    "        all_probs = model(minibatch_X, w)\n",
    "\n",
    "        grad = gradient(all_probs, minibatch_X, minibatch_y) + reg_gradient(lmbda, w)\n",
    "      #  reg_grad = reg_gradient(0.01, w)\n",
    "\n",
    "        w -= lr * grad\n",
    "    \n",
    "    val_loss, val_acc = evaluate(w, val_data_tilde, val_labels)\n",
    "    print ('epoch {:4d} : lr {:.4f} acc {:.4f} | loss {:.5f}'.format(e, lr, val_acc, val_loss))\n",
    "    \n",
    "    if val_loss < old_loss:\n",
    "        best_w = w \n",
    "        old_loss = val_loss\n",
    "        \n",
    "test_loss, test_acc = evaluate(best_w, test_data_tilde, test_labels)\n",
    "print ('test acc {:.4f} | loss {:.5f}'.format(test_acc, test_loss))"
   ]
  },
  {
   "cell_type": "markdown",
   "metadata": {},
   "source": [
    "If you run this code block multiple times, you should observe that the test accuracy goes further up. \n",
    "\n",
    "**WARNING**: However, feedback from the test set is NOT the right way."
   ]
  },
  {
   "cell_type": "markdown",
   "metadata": {},
   "source": [
    "### Visualize Features\n",
    "\n",
    "If everything goes well, we should be able to visualize each row of the parameter matrix $W$ defined above and start seeing some patterns. Intuitively, these can be thought of as a visual association of parameters with parts of the image space. Brighter the visual, higher the response signal on interaction with the input."
   ]
  },
  {
   "cell_type": "code",
   "execution_count": 20,
   "metadata": {},
   "outputs": [
    {
     "data": {
      "image/png": "[encoded data removed]",
      "text/plain": [
       "<Figure size 432x288 with 10 Axes>"
      ]
     },
     "metadata": {
      "needs_background": "light"
     },
     "output_type": "display_data"
    }
   ],
   "source": [
    "fig, axes = plt.subplots(2, 5)\n",
    "weights = best_w[:,:-1].copy()\n",
    "scale = np.abs(weights).max()\n",
    "for i in range(2):\n",
    "    for j in range(5):\n",
    "        idx = j + i * 5\n",
    "        axes[i, j].imshow(weights[idx].reshape(28, 28),interpolation='nearest', cmap=plt.cm.Greys, vmin=-scale, vmax=scale)\n",
    "        axes[i, j].axis('off')\n",
    "\n",
    "plt.show()"
   ]
  },
  {
   "cell_type": "markdown",
   "metadata": {},
   "source": [
    "## Support Vector Machines\n",
    "We will now play around with the support vector machine. We will first compare them to a standard logistic regression model. Then we will see how they work on datasets which are not linearly separable. "
   ]
  },
  {
   "cell_type": "markdown",
   "metadata": {},
   "source": [
    "Import some necessary packages"
   ]
  },
  {
   "cell_type": "code",
   "execution_count": 21,
   "metadata": {},
   "outputs": [],
   "source": [
    "# Start by importing the packages we'll need.\n",
    "import numpy as np\n",
    "from sklearn import datasets\n",
    "from sklearn.svm import LinearSVC\n",
    "from sklearn.linear_model import LogisticRegression\n",
    "from sklearn import model_selection\n",
    "from sklearn import metrics\n",
    "import matplotlib.pyplot as plt"
   ]
  },
  {
   "cell_type": "markdown",
   "metadata": {},
   "source": [
    "### Implement Linear SVMs\n",
    "We will implement a linear SVM for the task of breast cancer classification. "
   ]
  },
  {
   "cell_type": "markdown",
   "metadata": {},
   "source": [
    "First load the dataset and split it into training and validation set. "
   ]
  },
  {
   "cell_type": "code",
   "execution_count": 22,
   "metadata": {},
   "outputs": [
    {
     "name": "stdout",
     "output_type": "stream",
     "text": [
      "Shape of X =  (569, 30)\n",
      "Shape of y =  (569,)\n"
     ]
    }
   ],
   "source": [
    "# We'll set a random seed first.\n",
    "np.random.seed(19)\n",
    "\n",
    "# First load the data.\n",
    "data = datasets.load_breast_cancer()\n",
    "X = data.data   # The features.\n",
    "y = data.target # The targets.\n",
    "\n",
    "# Print the dataset sizes.\n",
    "print('Shape of X = ', X.shape)\n",
    "print('Shape of y = ', y.shape)\n",
    "\n",
    "# Split the data into a training and test set.\n",
    "X_train, X_val, y_train, y_val = model_selection.train_test_split(X, y, test_size = 0.33, random_state = 7)"
   ]
  },
  {
   "cell_type": "markdown",
   "metadata": {},
   "source": [
    "Now train a linear SVM using scikit-learn. In addition also train a logistic regression model also using scikit-learn."
   ]
  },
  {
   "cell_type": "code",
   "execution_count": 23,
   "metadata": {},
   "outputs": [
    {
     "name": "stdout",
     "output_type": "stream",
     "text": [
      "Linear SVM validation accuracy = 95.7%\n",
      "Logistic Regression validation accuracy = 95.2%\n"
     ]
    }
   ],
   "source": [
    "# Train the linear SVM.\n",
    "\n",
    "svm = LinearSVC(dual = False) # Uses the squared-hinge loss function when fitting the model.\n",
    "svm.fit(X_train, y_train)\n",
    "\n",
    "# Now evaluate it on the test points.\n",
    "y_pred = svm.predict(X_val)\n",
    "\n",
    "acc = metrics.accuracy_score(y_val, y_pred)\n",
    "print('Linear SVM validation accuracy = {:0.1f}%'.format(100*acc))\n",
    "\n",
    "# Compare to a simple logistic regression model.\n",
    "\n",
    "lr = LogisticRegression(solver = 'liblinear')\n",
    "lr.fit(X_train, y_train)\n",
    "y_pred = lr.predict(X_val)\n",
    "\n",
    "acc = metrics.accuracy_score(y_val, y_pred)\n",
    "print('Logistic Regression validation accuracy = {:0.1f}%'.format(100*acc))"
   ]
  },
  {
   "cell_type": "markdown",
   "metadata": {},
   "source": [
    "As we can see, a basic linear SVM already does very well and is comparable to logistic regression."
   ]
  },
  {
   "cell_type": "markdown",
   "metadata": {},
   "source": [
    "Let's compare logistic regression with SVM for binary classification.  Suppose that our data has $n$ features and we have trained a logistic regression model with weight vector $\\theta_{\\mathrm{LR}}\\in \\mathbb{R}^{n+1}$ as well as a linear SVM with parameters $w_{\\mathrm{SVM}}\\in \\mathbb{R}^n$, and $b_{\\mathrm{SVM}}\\in \\mathbb{R}$.  Assume that the optimal parameters have been found in both cases.  If the data is linearly separable then is it true that $\\theta_{\\mathrm{LR}} = (b_{\\mathrm{SVM}}, w_{\\mathrm{SVM}})$? \n",
    "\n",
    "If not then why?"
   ]
  },
  {
   "cell_type": "markdown",
   "metadata": {},
   "source": [
    "**They will not be the same in general.**\n",
    "\n",
    "Consider the dataset $X = (-5, -1, 1, 2)^T$ and $y = (-1, -1, 1, 1)^T$ (equivalently $y = (0,0,1,1)^T$ for logistic regression).  The SVM parameters will just be $(b_{\\mathrm{SVM}}, w_{\\mathrm{SVM}}) = (0,1)$.  However, the logistic regression parameters will be slightly different.  Recall the gradient of the loss function for logistic regression is\n",
    "$$\n",
    "\\nabla_{\\theta}J(\\theta) = -\\sum_{i=1}^4 (y_i - h(X_i;\\theta))X_i\n",
    "$$\n",
    "where\n",
    "$$\n",
    "h(x;\\theta) = \\frac{1}{1 + \\exp(-\\theta^Tx)}\n",
    "$$\n",
    "However, if we plug all of the values into the gradient we get\n",
    "$$\n",
    "\\nabla_{\\theta}J((b_{\\mathrm{SVM}}, w_{\\mathrm{SVM}})) = -\\left( \\frac{5}{1+e^{5}} + \\frac{1}{1+e^{1}} + \\frac{e^{-1}}{1+e^{-1}} +  \\frac{2e^{-2}}{1 + e^{-2}} \\right) \\neq 0\n",
    "$$\n",
    "Since the gradient is non-zero we know that $(b_{\\mathrm{SVM}}, w_{\\mathrm{SVM}})$ is not the optimal value for the logistic regression loss function and hence cannot be $\\theta_{\\mathrm{LR}}$."
   ]
  },
  {
   "cell_type": "markdown",
   "metadata": {},
   "source": [
    "### Case of non-linearly separable dataset\n",
    "\n",
    "If the data is linear separable, then a linear SVM should be able to achieve 100% accuracy.  However, this is rarely the case since even the breast cancer dataset was not exactly linear separable.  We'll use a fake dataset to illustrate this.  This data is drawn from a bi-modal Gaussian mixture model."
   ]
  },
  {
   "cell_type": "code",
   "execution_count": 24,
   "metadata": {},
   "outputs": [],
   "source": [
    "\"\"\"\n",
    "Input:\n",
    "    N : the number of data points\n",
    "\n",
    "Output:\n",
    "    X, y : the features and targets of shapes (N,2) and (N, )\n",
    "\"\"\"\n",
    "def sample_bimodal_data(N):\n",
    "    \n",
    "    # The two modes and covariances.\n",
    "    mu1 = np.asarray([-1, 0])\n",
    "    mu2 = np.asarray([1, 0])\n",
    "    \n",
    "    cov1 = 2 * np.identity(2)\n",
    "    cov2 = 2 * np.identity(2)\n",
    "    \n",
    "    N1 = N//2   # Number of points in first class.\n",
    "    N2 = N - N1 # Number of points in second class.\n",
    "    \n",
    "    # Sample the random points.\n",
    "    X1 = np.random.multivariate_normal(mu1, cov1, N1)\n",
    "    X2 = np.random.multivariate_normal(mu2, cov2, N2)\n",
    "    Y1 = np.zeros(N1)\n",
    "    Y2 = np.ones(N2)\n",
    "    \n",
    "    # Combine the data.\n",
    "    X = np.vstack((X1, X2))\n",
    "    Y = np.concatenate((Y1, Y2), axis = None)\n",
    "    \n",
    "    return X,Y"
   ]
  },
  {
   "cell_type": "code",
   "execution_count": 25,
   "metadata": {},
   "outputs": [
    {
     "data": {
      "image/png": "[encoded data removed]",
      "text/plain": [
       "<Figure size 432x288 with 1 Axes>"
      ]
     },
     "metadata": {
      "needs_background": "light"
     },
     "output_type": "display_data"
    }
   ],
   "source": [
    "# Plot the sample data.\n",
    "N = 100\n",
    "X,Y = sample_bimodal_data(N)\n",
    "\n",
    "plt.figure(1)\n",
    "plt.scatter(X[:N//2, 0], X[:N//2, 1], label = 'Class 0')\n",
    "plt.scatter(X[N - N//2:, 0], X[N - N//2:, 1], label = 'Class 1')\n",
    "plt.legend()\n",
    "plt.xlabel(r'$x_1$')\n",
    "plt.ylabel(r'$x_2$')\n",
    "plt.title('Sample Data');"
   ]
  },
  {
   "cell_type": "markdown",
   "metadata": {},
   "source": [
    "Increasing the factor in front of the covariances or shifting the centers of the two distributions to be closer to each other will cause the data to overlap more, making it harder to classify. Lets try that! "
   ]
  },
  {
   "cell_type": "markdown",
   "metadata": {},
   "source": [
    "#### Using a slack variable C\n",
    "\n",
    "Since the data is not perfectly linearly separable you'll want to use a slack variable which allows SVM to handle this dataset.  Let's train some models with different values of $C$ and compare them using cross-validation."
   ]
  },
  {
   "cell_type": "code",
   "execution_count": 26,
   "metadata": {},
   "outputs": [],
   "source": [
    "# First get the data and split it into training and testing.\n",
    "\n",
    "N = 100\n",
    "X, Y = sample_bimodal_data(N)\n",
    "\n",
    "# Use a 70/30 split\n",
    "X_train, X_val, Y_train, Y_val = model_selection.train_test_split(X, Y, test_size = 0.30, random_state = 981)"
   ]
  },
  {
   "cell_type": "code",
   "execution_count": 27,
   "metadata": {},
   "outputs": [
    {
     "name": "stdout",
     "output_type": "stream",
     "text": [
      "SVM accuracy = 66.7%\n"
     ]
    },
    {
     "data": {
      "image/png": "[encoded data removed]",
      "text/plain": [
       "<Figure size 432x288 with 1 Axes>"
      ]
     },
     "metadata": {
      "needs_background": "light"
     },
     "output_type": "display_data"
    }
   ],
   "source": [
    "# Define the SVM model to use with a slack variable\n",
    "svm = LinearSVC(C = 1e-10, dual = False)\n",
    "svm.fit(X_train, Y_train)\n",
    "svmpred = svm.predict(X_val)\n",
    "acc = metrics.accuracy_score(Y_val, svmpred)\n",
    "print('SVM accuracy = {:0.1f}%'.format(100*acc))\n",
    "\n",
    "plt.figure(2)\n",
    "I = svmpred == 0\n",
    "plt.scatter(X_val[I, 0], X_val[I, 1], label = 'Predicted class 0')\n",
    "I = svmpred == 1\n",
    "plt.scatter(X_val[I, 0], X_val[I, 1], label = 'Predicted class 1')\n",
    "plt.legend()\n",
    "plt.show()"
   ]
  },
  {
   "cell_type": "markdown",
   "metadata": {},
   "source": [
    "**Experiment with various different mu1 values and demonstrate SVM accuracy gets worse as mu1 and mu2 get closer**\n"
   ]
  },
  {
   "cell_type": "markdown",
   "metadata": {},
   "source": [
    "Let's train some models with different $C$ and compare them use cross-validation."
   ]
  },
  {
   "cell_type": "code",
   "execution_count": 28,
   "metadata": {},
   "outputs": [
    {
     "name": "stdout",
     "output_type": "stream",
     "text": [
      "C = 10    CV average score = 72.9%\n",
      "C = 1     CV average score = 72.9%\n",
      "C = 1e-3  CV average score = 75.7%\n",
      "C = 1e-7  CV average score = 77.1%\n"
     ]
    }
   ],
   "source": [
    "# Define the different SVM models to use\n",
    "svm_1 = LinearSVC(C = 10, dual = False)\n",
    "svm_2 = LinearSVC(C = 1, dual = False)\n",
    "svm_3 = LinearSVC(C = 1e-3, dual = False)\n",
    "svm_4 = LinearSVC(C = 1e-7, dual = False)\n",
    "\n",
    "split = model_selection.KFold(5)\n",
    "# Get the CV scores.\n",
    "cv_1 = model_selection.cross_val_score(svm_1, X_train, Y_train, cv = split)\n",
    "cv_2 = model_selection.cross_val_score(svm_2, X_train, Y_train, cv = split)\n",
    "cv_3 = model_selection.cross_val_score(svm_3, X_train, Y_train, cv = split)\n",
    "cv_4 = model_selection.cross_val_score(svm_4, X_train, Y_train, cv = split)\n",
    "\n",
    "# Print the average scores.\n",
    "print('C = 10    CV average score = {:0.1f}%'.format(np.mean(cv_1) * 100))\n",
    "print('C = 1     CV average score = {:0.1f}%'.format(np.mean(cv_2) * 100))\n",
    "print('C = 1e-3  CV average score = {:0.1f}%'.format(np.mean(cv_3) * 100))\n",
    "print('C = 1e-7  CV average score = {:0.1f}%'.format(np.mean(cv_4) * 100))"
   ]
  },
  {
   "cell_type": "markdown",
   "metadata": {},
   "source": [
    "We see that the model performs slightly differently for different values of the slack variable $C$.  \n",
    "\n",
    "$$\n",
    "\\min_{w,b,\\zeta} \\frac{1}{2}w^Tw + C\\sum_{i=1}^n \\zeta_i,\\quad \\text{ such that }\\quad y_i(w^Tx_i + b) \\ge 1 - \\zeta_i,\\quad \\zeta_i \\ge 0\n",
    "$$\n",
    "\n",
    "See the sci-kit [documentation](https://scikit-learn.org/stable/modules/svm.html) for more details.  We can also plot a curve of the validation score for many different $C$ values which can be helpful for determining the optimal hyperparameter."
   ]
  },
  {
   "cell_type": "code",
   "execution_count": 29,
   "metadata": {},
   "outputs": [
    {
     "data": {
      "image/png": "[encoded data removed]",
      "text/plain": [
       "<Figure size 432x288 with 1 Axes>"
      ]
     },
     "metadata": {
      "needs_background": "light"
     },
     "output_type": "display_data"
    }
   ],
   "source": [
    "# Get the C values we want to look at.\n",
    "C = 1/(2**np.arange(0, 20)) # 1,...,1e-6\n",
    "\n",
    "k = 10 # Kfold CV.\n",
    "cv_scores = np.zeros(len(C))\n",
    "split = model_selection.KFold(k)\n",
    "for i in range(len(C)):\n",
    "    svm = LinearSVC(C = C[i], dual = False)\n",
    "    cv_scores[i] = np.mean(model_selection.cross_val_score(svm, X_train, Y_train, cv = split))\n",
    "\n",
    "plt.figure(2)\n",
    "plt.semilogx(C, cv_scores, 'b-x')\n",
    "plt.xlabel(r'$C$')\n",
    "plt.ylabel(r'Score')\n",
    "plt.title(r'{:d}-Fold CV Score for Linear SVM'.format(k))\n",
    "plt.grid();"
   ]
  },
  {
   "cell_type": "markdown",
   "metadata": {},
   "source": [
    "We can use this plot to find the optimal value of the slack variables based on the cross validation score. Now let's see how our 4 models from earlier actually do on the validation set."
   ]
  },
  {
   "cell_type": "code",
   "execution_count": 30,
   "metadata": {},
   "outputs": [
    {
     "name": "stdout",
     "output_type": "stream",
     "text": [
      "Linear SVM (C = 10)   accuracy = 56.7%\n",
      "Linear SVM (C = 1)    accuracy = 56.7%\n",
      "Linear SVM (C = 1e-3) accuracy = 63.3%\n",
      "Linear SVM (C = 1e-7) accuracy = 66.7%\n"
     ]
    }
   ],
   "source": [
    "# Define the different SVM models to use\n",
    "svm_1 = LinearSVC(C = 10, dual = False)\n",
    "svm_2 = LinearSVC(C = 1, dual = False)\n",
    "svm_3 = LinearSVC(C = 1e-3, dual = False)\n",
    "svm_4 = LinearSVC(C = 1e-7, dual = False)\n",
    "\n",
    "# Fit the models.\n",
    "svm_1.fit(X_train, Y_train)\n",
    "svm_2.fit(X_train, Y_train)\n",
    "svm_3.fit(X_train, Y_train)\n",
    "svm_4.fit(X_train, Y_train)\n",
    "\n",
    "# Make the predictions.\n",
    "pred1 = svm_1.predict(X_val)\n",
    "pred2 = svm_2.predict(X_val)\n",
    "pred3 = svm_3.predict(X_val)\n",
    "pred4 = svm_4.predict(X_val)\n",
    "\n",
    "# Evaluate the models.\n",
    "acc1 = metrics.accuracy_score(Y_val, pred1)\n",
    "acc2 = metrics.accuracy_score(Y_val, pred2)\n",
    "acc3 = metrics.accuracy_score(Y_val, pred3)\n",
    "acc4 = metrics.accuracy_score(Y_val, pred4)\n",
    "\n",
    "print('Linear SVM (C = 10)   accuracy = {:0.1f}%'.format(100*acc1))\n",
    "print('Linear SVM (C = 1)    accuracy = {:0.1f}%'.format(100*acc2))\n",
    "print('Linear SVM (C = 1e-3) accuracy = {:0.1f}%'.format(100*acc3))\n",
    "print('Linear SVM (C = 1e-7) accuracy = {:0.1f}%'.format(100*acc4))"
   ]
  },
  {
   "cell_type": "markdown",
   "metadata": {},
   "source": [
    "### Another non-linearly separable dataset"
   ]
  },
  {
   "cell_type": "code",
   "execution_count": 31,
   "metadata": {},
   "outputs": [],
   "source": [
    "\"\"\"\n",
    "Input:\n",
    "    N : the number of data points\n",
    "\n",
    "Output:\n",
    "    X, y : the features and targets of shapes (N,2) and (N, )\n",
    "\"\"\"\n",
    "def gen_data1(N):\n",
    "    N1 = N//2\n",
    "    N2 = N - N1\n",
    "    t = np.linspace(0, 2*np.pi, N1)\n",
    "    \n",
    "    X1 = np.zeros((N1, 2))\n",
    "    X1[:,0] = 4*np.cos(t) + 0.1*np.random.randn(N1)\n",
    "    X1[:,1] = 4*np.sin(t) + 0.1*np.random.randn(N1)\n",
    "    y1 = np.zeros(N1)\n",
    "    \n",
    "    X2 = np.random.randn(2*N2)\n",
    "    X2 = X2.reshape((N2, 2))\n",
    "    y2 = np.ones(N2)\n",
    "\n",
    "    # Combine the data.\n",
    "    X = np.vstack((X1, X2))\n",
    "    y = np.concatenate((y1, y2), axis = None) # axis = None means that arrays flattened before use\n",
    "    \n",
    "    return X,y"
   ]
  },
  {
   "cell_type": "code",
   "execution_count": 32,
   "metadata": {},
   "outputs": [
    {
     "data": {
      "image/png": "[encoded data removed]",
      "text/plain": [
       "<Figure size 432x288 with 1 Axes>"
      ]
     },
     "metadata": {
      "needs_background": "light"
     },
     "output_type": "display_data"
    }
   ],
   "source": [
    "# Plot the data.\n",
    "N = 1000\n",
    "X, Y = gen_data1(N)\n",
    "\n",
    "plt.figure(3)\n",
    "plt.scatter(X[:N//2, 0], X[:N//2, 1], label = 'Class 0')\n",
    "plt.scatter(X[N - N//2:, 0], X[N - N//2:, 1], label = 'Class 1')\n",
    "plt.legend()\n",
    "plt.xlabel(r'$x_1$')\n",
    "plt.ylabel(r'$x_2$')\n",
    "plt.title('Sample Data');"
   ]
  },
  {
   "cell_type": "code",
   "execution_count": 33,
   "metadata": {},
   "outputs": [
    {
     "name": "stdout",
     "output_type": "stream",
     "text": [
      "SVM accuracy = 40.0%\n"
     ]
    },
    {
     "data": {
      "image/png": "[encoded data removed]",
      "text/plain": [
       "<Figure size 432x288 with 1 Axes>"
      ]
     },
     "metadata": {
      "needs_background": "light"
     },
     "output_type": "display_data"
    }
   ],
   "source": [
    "# Define the different SVM models to use\n",
    "# Use a 70/30 split\n",
    "X_train, X_val, Y_train, Y_val = model_selection.train_test_split(X, Y, test_size = 0.3, random_state = 981)\n",
    "svm = LinearSVC(C = 1e+10, dual = False)\n",
    "svm.fit(X_train, Y_train)\n",
    "svmpred = svm.predict(X_val)\n",
    "acc = metrics.accuracy_score(Y_val, svmpred)\n",
    "print('SVM accuracy = {:0.1f}%'.format(100*acc))\n",
    "\n",
    "plt.figure(2)\n",
    "I = svmpred == 0\n",
    "plt.scatter(X_val[I, 0], X_val[I, 1], label = 'predicted class 0')\n",
    "I = svmpred == 1\n",
    "plt.scatter(X_val[I, 0], X_val[I, 1], label = 'prediced class 1')\n",
    "plt.legend()\n",
    "plt.show()"
   ]
  },
  {
   "cell_type": "markdown",
   "metadata": {},
   "source": [
    "Here the data is not linearly separable although we can very clearly see some separation. If we transform the data by only looking at the radius, then we would be able to linearly separate the data. We will visit this in the next lecture when we talk about kernel SVM's which are much more flexible models and can handle a wider array of datasets."
   ]
  },
  {
   "cell_type": "code",
   "execution_count": 34,
   "metadata": {},
   "outputs": [
    {
     "name": "stdout",
     "output_type": "stream",
     "text": [
      "(1000, 2)\n"
     ]
    },
    {
     "data": {
      "image/png": "[encoded data removed]",
      "text/plain": [
       "<Figure size 432x288 with 1 Axes>"
      ]
     },
     "metadata": {
      "needs_background": "light"
     },
     "output_type": "display_data"
    }
   ],
   "source": [
    "def cart2pol(x, y):\n",
    "    rho = np.sqrt(x**2 + y**2)\n",
    "    phi = np.arctan2(y, x)\n",
    "    return (rho, phi)\n",
    "\n",
    "pX = np.vstack(cart2pol(X[:, 0], X[:, 1])).T\n",
    "print(pX.shape)\n",
    "plt.figure(4)\n",
    "plt.scatter(pX[:N//2, 0], pX[:N//2, 1], label = 'Class 0')\n",
    "plt.scatter(pX[N - N//2:, 0], pX[N - N//2:, 1], label = 'Class 1')\n",
    "plt.legend()\n",
    "plt.xlabel(r'$p_1$ (radius)')\n",
    "plt.ylabel(r'$p_2$ (angle)')\n",
    "plt.title('Sample Data');"
   ]
  },
  {
   "cell_type": "code",
   "execution_count": 35,
   "metadata": {},
   "outputs": [
    {
     "name": "stdout",
     "output_type": "stream",
     "text": [
      "SVM accuracy = 100.0%\n"
     ]
    }
   ],
   "source": [
    "# Define the different SVM models to use\n",
    "# Use a 70/30 split\n",
    "X_train, X_val, Y_train, Y_val = model_selection.train_test_split(pX, Y, test_size = 0.3, random_state = 981)\n",
    "svm = LinearSVC(C = 1e+10, dual = False)\n",
    "svm.fit(X_train, Y_train)\n",
    "svmpred = svm.predict(X_val)\n",
    "acc = metrics.accuracy_score(Y_val, svmpred)\n",
    "print('SVM accuracy = {:0.1f}%'.format(100*acc))"
   ]
  },
  {
   "cell_type": "code",
   "execution_count": null,
   "metadata": {},
   "outputs": [],
   "source": []
  }
 ],
 "metadata": {
  "anaconda-cloud": {},
  "interpreter": {
   "hash": "68ee14b412fd9617a94613e37903c7ba6bb9a423b3eb71728b972aa4f5f2b363"
  },
  "kernelspec": {
   "display_name": "Python 3.9.6 64-bit ('ml': conda)",
   "name": "python3"
  },
  "language_info": {
   "codemirror_mode": {
    "name": "ipython",
    "version": 3
   },
   "file_extension": ".py",
   "mimetype": "text/x-python",
   "name": "python",
   "nbconvert_exporter": "python",
   "pygments_lexer": "ipython3",
   "version": "3.9.6"
  }
 },
 "nbformat": 4,
 "nbformat_minor": 1
}
