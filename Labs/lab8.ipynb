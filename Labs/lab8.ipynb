{
 "cells": [
  {
   "cell_type": "markdown",
   "id": "84f30d75",
   "metadata": {},
   "source": [
    "# Introduction to Machine Learning (CSCI-UA.473)\n",
    "\n",
    "## Lab 1: Decision Trees and Random Forests\n",
    "### Date: November 11th, 2021\n",
    "\n",
    "\n",
    "### Name: (your name goes here)\n",
    "### Email: (your NYU email goes here)"
   ]
  },
  {
   "cell_type": "code",
   "execution_count": 1,
   "id": "ec244cd4",
   "metadata": {},
   "outputs": [
    {
     "data": {
      "text/plain": [
       "DecisionTreeClassifier(criterion='entropy')"
      ]
     },
     "execution_count": 1,
     "metadata": {},
     "output_type": "execute_result"
    },
    {
     "data": {
      "image/png": "[encoded data removed]",
      "text/plain": [
       "<Figure size 450x450 with 1 Axes>"
      ]
     },
     "metadata": {},
     "output_type": "display_data"
    }
   ],
   "source": [
    "# Lets first create a basic decision tree for a very basic dataset!\n",
    "from sklearn import tree, metrics\n",
    "import numpy as np\n",
    "import matplotlib.pyplot as plt\n",
    "BLUE, ORANGE, GRAY = '#57B5E8', '#E69E00', '#646369'\n",
    "\n",
    "#Our training data X is composed of two features, and our predictions are binary (0 or 1)\n",
    "X = np.array([[0, 0], [1, 1], [2,2], [2,3], [0,2], [1,2]])\n",
    "Y = np.array([0, 1, 0, 1, 0, 0 ])\n",
    "\n",
    "def plot_data(X, Y):\n",
    "    fig, ax = plt.subplots(figsize=(3, 3), dpi=150)\n",
    "    ax.set_aspect(1.3)\n",
    "    ax.scatter(X[:, 0], X[:, 1], s=18, facecolors='none',\n",
    "               edgecolors=np.array([BLUE, ORANGE])[Y])\n",
    "    ax.tick_params(\n",
    "        bottom=True, left=True, labelleft=False, labelbottom=False)\n",
    "    ax.text(0, 3.2, 'Training Data', color=GRAY, fontsize=9)\n",
    "    return fig, ax\n",
    "\n",
    "_, _ = plot_data(X, Y)\n",
    "\n",
    "# Default splitting is done using Gini impurity, we will use entropy for our exercise.\n",
    "clf = tree.DecisionTreeClassifier(criterion=\"entropy\") \n",
    "clf.fit(X,Y)\n",
    "\n",
    "\n"
   ]
  },
  {
   "cell_type": "code",
   "execution_count": 2,
   "id": "2d70fa5e",
   "metadata": {},
   "outputs": [
    {
     "data": {
      "text/plain": [
       "array([1, 1, 0, 1, 1, 1, 1, 1, 1, 0, 1, 1, 1, 1, 1, 1, 1, 0, 1, 1, 1, 1,\n",
       "       1, 0, 1, 1, 1, 0, 1, 1, 1, 0, 1, 1, 1, 1, 1, 1, 1, 0, 1, 0, 1, 1,\n",
       "       0, 0, 1, 1, 1, 1])"
      ]
     },
     "execution_count": 2,
     "metadata": {},
     "output_type": "execute_result"
    }
   ],
   "source": [
    "test_X = 3 + 2.5 * np.random.randn(50, 2)\n",
    "clf.predict(test_X)"
   ]
  },
  {
   "cell_type": "code",
   "execution_count": 3,
   "id": "191da7cf",
   "metadata": {},
   "outputs": [
    {
     "data": {
      "text/plain": [
       "array([[0., 1.],\n",
       "       [0., 1.],\n",
       "       [1., 0.],\n",
       "       [0., 1.],\n",
       "       [0., 1.],\n",
       "       [0., 1.],\n",
       "       [0., 1.],\n",
       "       [0., 1.],\n",
       "       [0., 1.],\n",
       "       [1., 0.],\n",
       "       [0., 1.],\n",
       "       [0., 1.],\n",
       "       [0., 1.],\n",
       "       [0., 1.],\n",
       "       [0., 1.],\n",
       "       [0., 1.],\n",
       "       [0., 1.],\n",
       "       [1., 0.],\n",
       "       [0., 1.],\n",
       "       [0., 1.],\n",
       "       [0., 1.],\n",
       "       [0., 1.],\n",
       "       [0., 1.],\n",
       "       [1., 0.],\n",
       "       [0., 1.],\n",
       "       [0., 1.],\n",
       "       [0., 1.],\n",
       "       [1., 0.],\n",
       "       [0., 1.],\n",
       "       [0., 1.],\n",
       "       [0., 1.],\n",
       "       [1., 0.],\n",
       "       [0., 1.],\n",
       "       [0., 1.],\n",
       "       [0., 1.],\n",
       "       [0., 1.],\n",
       "       [0., 1.],\n",
       "       [0., 1.],\n",
       "       [0., 1.],\n",
       "       [1., 0.],\n",
       "       [0., 1.],\n",
       "       [1., 0.],\n",
       "       [0., 1.],\n",
       "       [0., 1.],\n",
       "       [1., 0.],\n",
       "       [1., 0.],\n",
       "       [0., 1.],\n",
       "       [0., 1.],\n",
       "       [0., 1.],\n",
       "       [0., 1.]])"
      ]
     },
     "execution_count": 3,
     "metadata": {},
     "output_type": "execute_result"
    }
   ],
   "source": [
    "# We can also see the probability with which the classifier assigns each class for every sample\n",
    "clf.predict_proba(test_X)"
   ]
  },
  {
   "cell_type": "code",
   "execution_count": 4,
   "id": "f5810ce3",
   "metadata": {},
   "outputs": [],
   "source": [
    "# The decision tree seems to be pretty confident on all of its predictions. Any ideas how we can confuse it?\n",
    "# HINT : Here probabilty can be thought of as the number of samples in the leaf node with the same class"
   ]
  },
  {
   "cell_type": "code",
   "execution_count": 5,
   "id": "c2301525",
   "metadata": {},
   "outputs": [
    {
     "ename": "ModuleNotFoundError",
     "evalue": "No module named 'graphviz'",
     "output_type": "error",
     "traceback": [
      "\u001b[0;31m---------------------------------------------------------------------------\u001b[0m",
      "\u001b[0;31mModuleNotFoundError\u001b[0m                       Traceback (most recent call last)",
      "\u001b[0;32m/tmp/ipykernel_3294/3313789872.py\u001b[0m in \u001b[0;36m<module>\u001b[0;34m\u001b[0m\n\u001b[1;32m      1\u001b[0m \u001b[0;31m# This was just a programmatic dataset, lets try the decision tree on a more meaningful one\u001b[0m\u001b[0;34m\u001b[0m\u001b[0;34m\u001b[0m\u001b[0;34m\u001b[0m\u001b[0m\n\u001b[1;32m      2\u001b[0m \u001b[0;32mfrom\u001b[0m \u001b[0msklearn\u001b[0m\u001b[0;34m.\u001b[0m\u001b[0mdatasets\u001b[0m \u001b[0;32mimport\u001b[0m \u001b[0mload_digits\u001b[0m\u001b[0;34m\u001b[0m\u001b[0;34m\u001b[0m\u001b[0m\n\u001b[0;32m----> 3\u001b[0;31m \u001b[0;32mimport\u001b[0m \u001b[0mgraphviz\u001b[0m\u001b[0;34m\u001b[0m\u001b[0;34m\u001b[0m\u001b[0m\n\u001b[0m\u001b[1;32m      4\u001b[0m \u001b[0;34m\u001b[0m\u001b[0m\n\u001b[1;32m      5\u001b[0m \u001b[0;31m# We use the digits dataset provided by sklearn, this is similar to MNIST but much coarser (8x8) and\u001b[0m\u001b[0;34m\u001b[0m\u001b[0;34m\u001b[0m\u001b[0;34m\u001b[0m\u001b[0m\n",
      "\u001b[0;31mModuleNotFoundError\u001b[0m: No module named 'graphviz'"
     ]
    }
   ],
   "source": [
    "# This was just a programmatic dataset, lets try the decision tree on a more meaningful one\n",
    "from sklearn.datasets import load_digits\n",
    "import graphviz\n",
    "\n",
    "# We use the digits dataset provided by sklearn, this is similar to MNIST but much coarser (8x8) and \n",
    "# thus a lot lighter than MNIST (28x28)\n",
    "dataset = load_digits()\n",
    "X, Y = dataset.data, dataset.target\n",
    "idxs = np.arange(0, len(X))\n",
    "np.random.shuffle(idxs)\n",
    "train_idxs,test_idxs = idxs[:1500], idxs[1500:]\n",
    "train_X, train_Y = X[train_idxs], Y[train_idxs]\n",
    "test_X, test_Y = X[test_idxs], Y[test_idxs]\n",
    "plt.gray()\n",
    "plt.matshow(dataset.images[1000])\n",
    "print(dataset.target[1000])\n",
    "\n"
   ]
  },
  {
   "cell_type": "code",
   "execution_count": null,
   "id": "0dbe52e5",
   "metadata": {},
   "outputs": [],
   "source": [
    "clf = tree.DecisionTreeClassifier(criterion='entropy')\n",
    "clf = clf.fit(train_X, train_Y)\n",
    "dot_data = tree.export_graphviz(clf, out_file='graph.dot', \n",
    "                      feature_names=dataset.feature_names,  \n",
    "                      class_names=str(dataset.target_names),  \n",
    "                      filled=True, rounded=True,  \n",
    "                      special_characters=True) \n",
    "graph = graphviz.Source(dot_data)\n",
    "!dot -Tpng graph.dot -o graph.png"
   ]
  },
  {
   "cell_type": "code",
   "execution_count": null,
   "id": "d1f52b19",
   "metadata": {},
   "outputs": [],
   "source": [
    "# Predict using the fitted decision tree\n",
    "preds = clf.predict(test_X)"
   ]
  },
  {
   "cell_type": "code",
   "execution_count": null,
   "id": "4f8b8286",
   "metadata": {},
   "outputs": [],
   "source": [
    "print(np.sum(preds == test_Y)/len(preds))"
   ]
  },
  {
   "cell_type": "code",
   "execution_count": null,
   "id": "27233c9d",
   "metadata": {},
   "outputs": [],
   "source": [
    "# This was your vanilla Decision trees, now lets look at Bagging.\n",
    "from sklearn.ensemble import BaggingClassifier\n",
    "\n",
    "# Remember, Bagging is just using an ensemble of decision trees to add more variance to your model.\n",
    "# So we simply wrap our original DecisionTreeClassifier with a BaggingClassifier module.\n",
    "clf = BaggingClassifier(base_estimator=tree.DecisionTreeClassifier(criterion='entropy'),\n",
    "                       n_estimators=1, max_samples=1.0, max_features=1.0, bootstrap=True)\n",
    "clf = clf.fit(train_X, train_Y)\n",
    "# What would setting n_estimators as 1 mean?\n",
    "# Changing the value for n_estimators changes our accuracy\n"
   ]
  },
  {
   "cell_type": "code",
   "execution_count": null,
   "id": "295bcd62",
   "metadata": {},
   "outputs": [],
   "source": [
    "preds = clf.predict(test_X)"
   ]
  },
  {
   "cell_type": "code",
   "execution_count": null,
   "id": "491d39b6",
   "metadata": {},
   "outputs": [],
   "source": [
    "print(np.sum(preds == test_Y)/len(preds))"
   ]
  },
  {
   "cell_type": "code",
   "execution_count": null,
   "id": "10ad791e",
   "metadata": {},
   "outputs": [],
   "source": [
    "# Random forests\n",
    "from sklearn.ensemble import RandomForestClassifier\n",
    "\n",
    "# Now we try RandomForests on the same data. Again, RandomForests is just a method to ensemble your base models\n",
    "# and will be used in the same way bagging was.\n",
    "clf = RandomForestClassifier(n_estimators=5)\n",
    "clf.fit(train_X, train_Y)\n"
   ]
  },
  {
   "cell_type": "code",
   "execution_count": null,
   "id": "550a607d",
   "metadata": {},
   "outputs": [],
   "source": [
    "preds = clf.predict(test_X)"
   ]
  },
  {
   "cell_type": "code",
   "execution_count": null,
   "id": "2db28b94",
   "metadata": {},
   "outputs": [],
   "source": [
    "print(np.sum(preds == test_Y)/len(preds))"
   ]
  },
  {
   "cell_type": "code",
   "execution_count": null,
   "id": "b1aad7d0",
   "metadata": {},
   "outputs": [],
   "source": [
    "# Next we implement gradient boosting, in particular the Adaboost algorithm.\n",
    "# Remember, gradient boosting algorithms involve iteratively improving the decision trees\n",
    "# and hence involve a learning rate similar to logistic regressions.\n",
    "import matplotlib.pyplot as plt\n",
    "\n",
    "from sklearn.ensemble import AdaBoostClassifier\n",
    "from sklearn.datasets import make_gaussian_quantiles\n",
    "\n",
    "# Construct dataset\n",
    "X1, y1 = make_gaussian_quantiles(\n",
    "    cov=2.0, n_samples=200, n_features=2, n_classes=2, random_state=1\n",
    ")\n",
    "X2, y2 = make_gaussian_quantiles(\n",
    "    mean=(3, 3), cov=1.5, n_samples=300, n_features=2, n_classes=2, random_state=1\n",
    ")\n",
    "X = np.concatenate((X1, X2))\n",
    "y = np.concatenate((y1, -y2 + 1))\n"
   ]
  },
  {
   "cell_type": "code",
   "execution_count": null,
   "id": "4699602e",
   "metadata": {},
   "outputs": [],
   "source": [
    "# Plot the training points\n",
    "plot_colors = \"br\"\n",
    "plot_step = 0.02\n",
    "class_names = \"AB\"\n",
    "for i, n, c in zip(range(2), class_names, plot_colors):\n",
    "    idx = np.where(y == i)\n",
    "    plt.scatter(\n",
    "        X[idx, 0],\n",
    "        X[idx, 1],\n",
    "        c=c,\n",
    "        cmap=plt.cm.Paired,\n",
    "        s=20,\n",
    "        edgecolor=\"k\",\n",
    "        label=\"Class %s\" % n,\n",
    "    )"
   ]
  },
  {
   "cell_type": "code",
   "execution_count": null,
   "id": "3173502e",
   "metadata": {},
   "outputs": [],
   "source": [
    "# Create and fit an AdaBoosted decision tree\n",
    "bdt = AdaBoostClassifier(\n",
    "    tree.DecisionTreeClassifier(max_depth=1, criterion='entropy'),algorithm=\"SAMME\", n_estimators=20, learning_rate=0.01\n",
    ")\n",
    "bdt.fit(X, y)\n"
   ]
  },
  {
   "cell_type": "code",
   "execution_count": null,
   "id": "feb88d8e",
   "metadata": {},
   "outputs": [],
   "source": [
    "# Plot the decision boundaries\n",
    "plt.subplot(111)\n",
    "x_min, x_max = X[:, 0].min() - 1, X[:, 0].max() + 1\n",
    "y_min, y_max = X[:, 1].min() - 1, X[:, 1].max() + 1\n",
    "xx, yy = np.meshgrid(\n",
    "    np.arange(x_min, x_max, plot_step), np.arange(y_min, y_max, plot_step)\n",
    ")\n",
    "\n",
    "Z = bdt.predict(np.c_[xx.ravel(), yy.ravel()])\n",
    "Z = Z.reshape(xx.shape)\n",
    "cs = plt.contourf(xx, yy, Z, cmap=plt.cm.Paired)\n",
    "plt.axis(\"tight\")\n",
    "\n",
    "# Plot the training points\n",
    "for i, n, c in zip(range(2), class_names, plot_colors):\n",
    "    idx = np.where(y == i)\n",
    "    plt.scatter(\n",
    "        X[idx, 0],\n",
    "        X[idx, 1],\n",
    "        c=c,\n",
    "        cmap=plt.cm.Paired,\n",
    "        s=20,\n",
    "        edgecolor=\"k\",\n",
    "        label=\"Class %s\" % n,\n",
    "    )\n",
    "plt.xlim(x_min, x_max)\n",
    "plt.ylim(y_min, y_max)\n",
    "plt.legend(loc=\"upper right\")\n",
    "plt.xlabel(\"x\")\n",
    "plt.ylabel(\"y\")\n",
    "plt.title(\"Decision Boundary\")\n"
   ]
  },
  {
   "cell_type": "code",
   "execution_count": null,
   "id": "94691abe",
   "metadata": {},
   "outputs": [],
   "source": [
    "# Plot the two-class decision scores\n",
    "twoclass_output = bdt.decision_function(X)\n",
    "plot_range = (twoclass_output.min(), twoclass_output.max())\n",
    "plt.subplot(122)\n",
    "for i, n, c in zip(range(2), class_names, plot_colors):\n",
    "    plt.hist(\n",
    "        twoclass_output[y == i],\n",
    "        bins=10,\n",
    "        range=plot_range,\n",
    "        facecolor=c,\n",
    "        label=\"Class %s\" % n,\n",
    "        alpha=0.5,\n",
    "        edgecolor=\"k\",\n",
    "    )\n",
    "x1, x2, y1, y2 = plt.axis()\n",
    "plt.axis((x1, x2, y1, y2 * 1.2))\n",
    "plt.legend(loc=\"upper right\")\n",
    "plt.ylabel(\"Samples\")\n",
    "plt.xlabel(\"Score\")\n",
    "plt.title(\"Decision Scores\")\n",
    "\n",
    "plt.tight_layout()\n",
    "plt.subplots_adjust(wspace=0.35)\n",
    "plt.show()\n"
   ]
  }
 ],
 "metadata": {
  "kernelspec": {
   "display_name": "Python 3 (ipykernel)",
   "language": "python",
   "name": "python3"
  },
  "language_info": {
   "codemirror_mode": {
    "name": "ipython",
    "version": 3
   },
   "file_extension": ".py",
   "mimetype": "text/x-python",
   "name": "python",
   "nbconvert_exporter": "python",
   "pygments_lexer": "ipython3",
   "version": "3.9.6"
  }
 },
 "nbformat": 4,
 "nbformat_minor": 5
}
